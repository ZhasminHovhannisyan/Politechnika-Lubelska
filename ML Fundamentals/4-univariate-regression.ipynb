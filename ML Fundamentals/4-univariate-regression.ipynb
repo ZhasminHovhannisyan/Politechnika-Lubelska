{
 "cells": [
  {
   "metadata": {},
   "cell_type": "code",
   "outputs": [],
   "execution_count": null,
   "source": [
    "# 1. Univariate regression\n",
    "\n",
    "Regression is one of the fundamental techniques that will help us to study the relationship between the different variables that are relevant to the questions that we are trying to answer. We will consider a use case where we have collected students average test grade scores and their respective average studied hours for the test for a group of similar IQ students.\n",
    "\n",
    "## 1.1. Simple regression\n",
    "The relationship between the dependent and the independent variable is modelled using a straight line (1st degree polynomial).\n",
    "\n",
    "## Exercise 1: Import needed modules\n",
    "Analyze the following code. Then, run it and answer the question."
   ],
   "id": "935fba89df83e742"
  },
  {
   "metadata": {},
   "cell_type": "code",
   "outputs": [],
   "execution_count": null,
   "source": [
    "import pandas as pd\n",
    "import numpy as np\n",
    "import matplotlib.pyplot as plt\n",
    "import scipy.stats as stats\n",
    "\n",
    "# Import linear regression function\n",
    "import sklearn.linear_model as lm\n",
    "\n",
    "# Import functions to calculate r-squared, MAE and RMSE\n",
    "from sklearn.metrics import r2_score, mean_absolute_error, mean_squared_error"
   ],
   "id": "fe04362e30f47da4"
  },
  {
   "metadata": {},
   "cell_type": "markdown",
   "source": [
    "**Question:**\n",
    "1. What is the purpose of importing individual modules?\n",
    "\n",
    "**Answer:**"
   ],
   "id": "c4eb95fe2ce7e5cf"
  },
  {
   "metadata": {},
   "cell_type": "raw",
   "source": "We need to import modules to be able to handle efficiently different tasks. Pandas and numpy are meant for data manipulation and numerical operations. matplotlib is used for data visualisation. scipy.stats is for statistical functions. sklearn.linear_model this module contains functions for linear models. r2_score, mean_absolute_error, mean_squared_error are imported for evaluation. r2_score for determining the proportion of variance explained by the model, mean_squared_error for RMSE, mean_absolute_error for average absolute error.",
   "id": "8f4f7390a4e2c8d5"
  },
  {
   "metadata": {},
   "cell_type": "markdown",
   "source": [
    "## Exercise 2: Input data and basic statistics\n",
    "In this exercise you will load the input data from the *.csv file, then you will check the correlation between variables and plot the scatter and distribution of the variables. Analyze the following code. Then, run it and answer the questions."
   ],
   "id": "77942c7777736893"
  },
  {
   "metadata": {},
   "cell_type": "code",
   "outputs": [],
   "execution_count": null,
   "source": [
    "# Load data\n",
    "from google.colab import drive\n",
    "drive.mount('/content/drive')\n",
    "df = pd.read_csv('/content/drive/My Drive/Colab Notebooks/Lab04/Grade_Set_1.csv')\n",
    "print(df)\n",
    "\n",
    "# Scatter plot\n",
    "df.plot(kind = 'scatter', x = 'Hours_Studied', y = 'Test_Grade', title = 'Grade vs Hours Studied')\n",
    "plt.show()\n",
    "\n",
    "# Correlation between variables\n",
    "print('\\nCorrelation Matrix: ')\n",
    "print(df.corr())\n",
    "\n",
    "# Distribution plot (pdf - probability density function)\n",
    "fit = stats.norm.pdf(df.Test_Grade, np.mean(df.Test_Grade), np.std(df.Test_Grade))\n",
    "plt.plot(df.Test_Grade, fit, '-o')\n",
    "plt.hist(df.Test_Grade, density = True)\n",
    "plt.show()"
   ],
   "id": "981bd58db10b2075"
  },
  {
   "metadata": {},
   "cell_type": "markdown",
   "source": [
    "**Questions:**\n",
    "1. What kind of relationship between a dependent and an independent variable can be suspected based on the scatter plot?\n",
    "2. What can you say about the correlation between the variables?\n",
    "3. What can you say about the probability density distribution of the observations based on the distribution plot?\n",
    "\n",
    "**Answers:**"
   ],
   "id": "fd99f8c49980f14e"
  },
  {
   "metadata": {},
   "cell_type": "raw",
   "source": [
    "1. Here, Hours_Studied is the independent variable and Test_grade is the dependent variable. Based on the scatter plot it can be suspected a positive linar relationship, because as student spends more hours studying, their test grades are increasing.\n",
    "2. The correlation between variables is 0.98, which is very close to 1 and indicates a strong positive linear relationship\n",
    "3. We can count this distribution as bell-shaped, which suggests a normal distribution"
   ],
   "id": "886ac11fd55379be"
  },
  {
   "metadata": {},
   "cell_type": "markdown",
   "source": [
    "## Exercise 3: Create a model\n",
    "Analyze the following code. Then, run it and answer the questions."
   ],
   "id": "d24b2d859b1ecb70"
  },
  {
   "metadata": {},
   "cell_type": "code",
   "outputs": [],
   "execution_count": null,
   "source": [
    "import warnings\n",
    "warnings.filterwarnings('ignore')\n",
    "\n",
    "# Create the linear regression object\n",
    "lr = lm.LinearRegression()\n",
    "\n",
    "x = df.Hours_Studied.values.reshape(-1, 1) # Independent variable\n",
    "y = df.Test_Grade.values                   # Dependent variable\n",
    "\n",
    "# Train the model using the training sets\n",
    "lr.fit(x, y)\n",
    "\n",
    "print('Intercept (c): ', lr.intercept_)\n",
    "print('Coefficient (m): ', lr.coef_)"
   ],
   "id": "396513915ac46b3d"
  },
  {
   "metadata": {},
   "cell_type": "code",
   "outputs": [],
   "execution_count": null,
   "source": [
    "c = 49.67777777777776\n",
    "m = 5.01666667"
   ],
   "id": "3a7b40892b75fa68"
  },
  {
   "metadata": {},
   "cell_type": "code",
   "outputs": [],
   "execution_count": null,
   "source": [
    "# Manual prediction for a given value of x\n",
    "X = 6 # Hours Studied\n",
    "print('Manual prediction:', c + m * X) # Insert appropriate values for c and m\n",
    "\n",
    "# Predict using the built-in predict() function\n",
    "print('Using predict function:', lr.predict([[6]]))\n",
    "\n",
    "# Plot the fitted line\n",
    "plt.scatter(x, y, color = 'black')\n",
    "plt.plot(x, lr.predict(x), color = 'blue', linewidth = 3)\n",
    "plt.title('Grade vs Hours Studied')\n",
    "plt.ylabel('Test_Grade')\n",
    "plt.xlabel('Hours_Studied')\n",
    "plt.show()"
   ],
   "id": "20e87da882967195"
  },
  {
   "metadata": {},
   "cell_type": "markdown",
   "source": [
    "**Questions:**\n",
    "1. How do you assess the results of manual prediction and with the predict() function?\n",
    "2. What will the test result be if the student prepares for 8 hours?\n",
    "\n",
    "**Answers:**"
   ],
   "id": "12193bf04ec77db2"
  },
  {
   "metadata": {},
   "cell_type": "raw",
   "source": [
    "1. To calculate manual prediction we are doing c(interept) + m (coeff) * x, which means 49.677777777776 + 5.0166666 * 6 = 79.77777779. Using the predict() func, it takes as input for hours_studied and uses the model's learned intercept and coef to froduce the predicted grade. output is 79.77777778, which is very close to mannual result.\n",
    "2. manually it will be 89.81111113777777 and using the function result will be 81111111"
   ],
   "id": "154c2d66bc34720f"
  },
  {
   "metadata": {},
   "cell_type": "code",
   "outputs": [],
   "execution_count": null,
   "source": [
    "X = 8\n",
    "print('Manual prediction:', c + m * X)\n",
    "print('Using predict function:', lr.predict([[8]]))\n"
   ],
   "id": "2d4919c03e34398b"
  },
  {
   "metadata": {},
   "cell_type": "markdown",
   "source": [
    "## Exercise 4: Evaluate a model\n",
    "Analyze the following code. Then, run it and answer the questions."
   ],
   "id": "47fb29d3fac9490"
  },
  {
   "metadata": {},
   "cell_type": "code",
   "outputs": [],
   "execution_count": null,
   "source": [
    "# Add predicted value to the data frame\n",
    "df['Test_Grade_Pred'] = lr.predict(x)\n",
    "\n",
    "# Calculating R-squared manually\n",
    "df['SST'] = np.square(df['Test_Grade'] - df['Test_Grade'].mean())\n",
    "df['SSR'] = np.square(df['Test_Grade_Pred'] - df['Test_Grade'].mean())\n",
    "\n",
    "print('Sum of SSR:', df['SSR'].sum())\n",
    "print('Sum of SST:', df['SST'].sum())\n",
    "print()\n",
    "\n",
    "print(df)\n",
    "df.to_csv('r-squared.csv', index = False)\n",
    "\n",
    "print('\\nR-squared using manual calculation:', df['SSR'].sum() / df['SST'].sum())\n",
    "\n",
    "# The use of the built-in function\n",
    "print('R-squared using built-in function:', r2_score(df.Test_Grade,  df.Test_Grade_Pred))\n",
    "print('Mean Absolute Error:', mean_absolute_error(df.Test_Grade, df.Test_Grade_Pred))\n",
    "print('Root Mean Squared Error:', np.sqrt(mean_squared_error(df.Test_Grade, df.Test_Grade_Pred)))"
   ],
   "id": "5d23cc53b92ae8bb"
  },
  {
   "metadata": {},
   "cell_type": "markdown",
   "source": [
    "**Questions:**\n",
    "1. How do you interpret the model evaluation metrics used?\n",
    "2. How much can a built model be mistaken in predicting the test grade? How will you determine this accuracy?\n",
    "\n",
    "**Answers:**"
   ],
   "id": "626c72403c42359a"
  },
  {
   "metadata": {},
   "cell_type": "raw",
   "source": [
    "1. The R-squared metric shows the total proportion of variance in the dependent variable explained by the independent variable. The values are between 0 and 1. The closer it is to 1, the stronger is model fit. In this case it means that 97.57% of the variation in test grades is explained by studied hours. Mean absolute error measures the average range of errors, but it doesn't show in which direction the error is. Value 1,68 for mean error is low, which is good. RMSE indicates how close are the predicted values to actual values. The lower RMSE is, the better model predictions are.\n",
    "2. We will determine the amount of mistake by RMSE. Value 2,04 suggests that model's predictions can be 4 grades away from the actual grade."
   ],
   "id": "f2504f56460d6218"
  },
  {
   "metadata": {},
   "cell_type": "markdown",
   "source": [
    "## Exercise 5: Outliers\n",
    "Now, we'll introduce an outlier i.e., a student has studied 5 hours and scored 100. Assume that this student has higher IQ than others in this group. Notice the drop in R-squared value. So it is important to apply business logic to avoid including outliers in the training dataset to generalize the model and increase accuracy. Analyze the following code. Then, run it and answer the questions."
   ],
   "id": "95d017bb93da3c2b"
  },
  {
   "metadata": {},
   "cell_type": "code",
   "outputs": [],
   "execution_count": null,
   "source": [
    "# Load data\n",
    "df = pd.read_csv('/content/drive/My Drive/Colab Notebooks/Lab04/Grade_Set_1.csv')\n",
    "\n",
    "df.loc[3] = np.array([5, 100])\n",
    "\n",
    "x = df.Hours_Studied.values.reshape(-1, 1) # Independent variable\n",
    "y = df.Test_Grade.values            # Dependent variable\n",
    "\n",
    "# Train the model using the training sets\n",
    "lr.fit(x, y)\n",
    "print('Intercept (c):', lr.intercept_)\n",
    "print('Coefficient (m):', lr.coef_)"
   ],
   "id": "8a31edc6e2237b89"
  },
  {
   "metadata": {},
   "cell_type": "code",
   "outputs": [],
   "execution_count": null,
   "source": [
    "c = 54.74444444444443\n",
    "m = 4.61666667"
   ],
   "id": "f332ffc1c40c2253"
  },
  {
   "metadata": {},
   "cell_type": "code",
   "outputs": [],
   "execution_count": null,
   "source": [
    "# Manual prediction for a given value of x\n",
    "X = 6 # Hours Studied\n",
    "print('Manual prediction:', c + m * X) # Insert appropriate values for c and m\n",
    "\n",
    "# Predict using the built-in predict() function\n",
    "print('Using predict function:', lr.predict([[6]]))\n",
    "\n",
    "# Plot the fitted line\n",
    "plt.scatter(x, y, color = 'black')\n",
    "plt.plot(x, lr.predict(x), color = 'blue', linewidth = 3)\n",
    "plt.title('Grade vs Hours Studied')\n",
    "plt.ylabel('Test_Grade')\n",
    "plt.xlabel('Hours_Studied')\n",
    "plt.show()\n",
    "\n",
    "# Add predicted value to the data frame\n",
    "df['Test_Grade_Pred'] = lr.predict(x)\n",
    "\n",
    "# The use of the built-in function\n",
    "print('R-squared:', r2_score(df.Test_Grade,  df.Test_Grade_Pred))\n",
    "print('Mean Absolute Error:', mean_absolute_error(df.Test_Grade, df.Test_Grade_Pred))\n",
    "print('Root Mean Squared Error:', np.sqrt(mean_squared_error(df.Test_Grade, df.Test_Grade_Pred)))"
   ],
   "id": "cf77c23911b0774e"
  },
  {
   "metadata": {},
   "cell_type": "markdown",
   "source": [
    "**Questions:**\n",
    "1. How have the model evaluation metrics changed when an outlier is added to the data set?\n",
    "2. How should outlier values be handled and why?\n",
    "\n",
    "**Answers:**"
   ],
   "id": "c8f4b9db8639f541"
  },
  {
   "metadata": {},
   "cell_type": "raw",
   "source": [
    "1. After adding an outlier to our dataset, R-squared metrics decreased, Mean absolute and RMSE increased, which means the performance of our model got worse.\n",
    "2. Outliers should be found and removed or adjusted to fit the typical data."
   ],
   "id": "1bd30cd787d5f999"
  },
  {
   "metadata": {},
   "cell_type": "markdown",
   "source": [
    "## 1.2. Polynomial regression\n",
    "Relationship between the dependent and the independent variable is modelled using a curve (nth degree polynomial).\n",
    "\n",
    "## Exercise 6: Polynomial plots\n",
    "Analyze the following code. Then, run it and see the plots of polynomials."
   ],
   "id": "74d7452c4bb6557c"
  },
  {
   "metadata": {},
   "cell_type": "code",
   "outputs": [],
   "execution_count": null,
   "source": [
    "x = np.linspace(-3, 3, 1000)\n",
    "\n",
    "# Plot subplots\n",
    "fig, ((ax1, ax2, ax3), (ax4, ax5, ax6)) = plt.subplots(nrows = 2, ncols = 3)\n",
    "\n",
    "ax1.plot(x, x)\n",
    "ax1.set_title('Linear')\n",
    "ax2.plot(x, x**2)\n",
    "ax2.set_title('Degree 2')\n",
    "ax3.plot(x, x**3)\n",
    "ax3.set_title('Degree 3')\n",
    "ax4.plot(x, x**4)\n",
    "ax4.set_title('Degree 4')\n",
    "ax5.plot(x, x**5)\n",
    "ax5.set_title('Degree 5')\n",
    "ax6.plot(x, x**6)\n",
    "ax6.set_title('Degree 6')\n",
    "\n",
    "# Tidy layout\n",
    "plt.tight_layout()"
   ],
   "id": "dd13aeb9709d2e67"
  },
  {
   "metadata": {},
   "cell_type": "markdown",
   "source": [
    "## Exercise 7: Input data and basic statistics\n",
    "Let’s consider another set of students average test grade scores and their respective average studied hours for similar IQ students. We will check the correlation between variables and plot the scatter of the variables. Analyze the following code. Then, run it and answer the questions."
   ],
   "id": "b9c22d25c40dcf04"
  },
  {
   "metadata": {},
   "cell_type": "code",
   "outputs": [],
   "execution_count": null,
   "source": [
    "# Load data\n",
    "df = pd.read_csv('/content/drive/My Drive/Colab Notebooks/Lab04/Grade_Set_2.csv')\n",
    "print(df)\n",
    "\n",
    "# Scatter plot\n",
    "df.plot(kind = 'scatter', x = 'Hours_Studied', y = 'Test_Grade', title = 'Grade vs Hours Studied')\n",
    "plt.show()\n",
    "\n",
    "# Correlation between variables\n",
    "print('\\nCorrelation Matrix: ')\n",
    "print(df.corr())"
   ],
   "id": "eb8e26ac8da77894"
  },
  {
   "metadata": {},
   "cell_type": "markdown",
   "source": [
    "**Questions:**\n",
    "1. What kind of relationship between a dependent and an independent variable can be suspected based on the scatter plot?\n",
    "2. What can you say about the correlation between the variables?\n",
    "\n",
    "**Answers:**"
   ],
   "id": "dae9297f169b96e9"
  },
  {
   "metadata": {},
   "cell_type": "raw",
   "source": [
    "1. Based on the scatter plot it can be suspended degree 3 relationship between variables\n",
    "2. The correlation between variables is very high +0,97"
   ],
   "id": "7b9931f179a5ab05"
  },
  {
   "metadata": {},
   "cell_type": "markdown",
   "source": [
    "## Exercise 8: Create a model\n",
    "Analyze the following code. Then, run it and answer the question."
   ],
   "id": "c35c7c28c64bd0c4"
  },
  {
   "metadata": {},
   "cell_type": "code",
   "outputs": [],
   "execution_count": null,
   "source": [
    "# Create the linear regression object\n",
    "lr = lm.LinearRegression()\n",
    "\n",
    "x = df.Hours_Studied.values.reshape(-1, 1) # Independent variable\n",
    "y = df.Test_Grade                   # Dependent variable\n",
    "\n",
    "# Train the model using the training sets\n",
    "lr.fit(x, y)\n",
    "\n",
    "print('Intercept (c):', lr.intercept_)\n",
    "print('Coefficient (m):', lr.coef_)"
   ],
   "id": "d8e367cfa9010301"
  },
  {
   "metadata": {},
   "cell_type": "code",
   "outputs": [],
   "execution_count": null,
   "source": [
    "c = 7.27106067219556\n",
    "m = 7.25447403"
   ],
   "id": "3e3cdbaf45f20a03"
  },
  {
   "metadata": {},
   "cell_type": "code",
   "outputs": [],
   "execution_count": null,
   "source": [
    "# Manual prediction for a given value of x\n",
    "X = 6 # Hours Studied\n",
    "print('Manual prediction:', c + m * X) # Insert appropriate values for c and m\n",
    "\n",
    "# Predict using the built-in predict() function\n",
    "print('Using predict function:', lr.predict([[6]]))\n",
    "\n",
    "# Plot the fitted line\n",
    "plt.scatter(x, y, color = 'black')\n",
    "plt.plot(x, lr.predict(x), color = 'blue', linewidth = 3)\n",
    "plt.title('Grade vs Hours Studied')\n",
    "plt.ylabel('Test_Grade')\n",
    "plt.xlabel('Hours_Studied')\n",
    "plt.show()\n",
    "\n",
    "print('R-squared:', r2_score(y, lr.predict(x)))"
   ],
   "id": "bc243f773571de25"
  },
  {
   "metadata": {},
   "cell_type": "markdown",
   "source": [
    "**Question:**\n",
    "1. How has the R-squared changed compared to the Grade_Set_1 set?\n",
    "\n",
    "**Answer:**"
   ],
   "id": "535694e5bff01530"
  },
  {
   "metadata": {},
   "cell_type": "raw",
   "source": "R_squared was 0.98, it went down, which means the fit is worse",
   "id": "5f7f907d67156e37"
  },
  {
   "metadata": {},
   "cell_type": "markdown",
   "source": [
    "# Exercise 9: Evaluate a model\n",
    "We will now evaluate the model for different degrees of polynomial used for modelling the relationship between the dependent and independent variable. In order to simplify calculations, we will use the NumPy's **vander** function that returns powers of the input vector. Analyze the following code. Then, run it and answer the questions."
   ],
   "id": "10d30d8a9aff0cf0"
  },
  {
   "metadata": {},
   "cell_type": "code",
   "outputs": [],
   "execution_count": null,
   "source": [
    "x = df.Hours_Studied # Independent variable\n",
    "\n",
    "for deg in range(1, 6):\n",
    "    lr.fit(np.vander(x, deg + 1), y);\n",
    "    y_lr = lr.predict(np.vander(x, deg + 1))\n",
    "    plt.plot(x, y_lr, label = 'degree ' + str(deg));\n",
    "    plt.legend(loc = 2);\n",
    "    print('R-squared for degree ' + str(deg) + ' =',  r2_score(y, y_lr))\n",
    "plt.plot(x, y, 'ok')\n",
    "plt.show()"
   ],
   "id": "ac042892f459eeee"
  },
  {
   "metadata": {},
   "cell_type": "markdown",
   "source": [
    "**Questions:**\n",
    "1. When analysing R-squared values, which polynomial degree do you think is optimal for modelling the relationship between the dependent and independent variable? Justify your answer.\n",
    "2. What is the meaning of the **'ok'** argument, which is passed on to the **plot()** function?\n",
    "\n",
    "**Answers:**"
   ],
   "id": "cd60b913ad624798"
  },
  {
   "metadata": {},
   "cell_type": "raw",
   "source": [
    "1. A higher R-squared means a better fit, but an excessively high value (especially close to 1) can indicate overfitting. The optimal polynomial degree is likely 3, as it captures the trend well without excessive complexity.\n",
    "2. The 'ok' argument in plt.plot(x, y, 'ok') specifies black circular markers, 'o' for circle, 'k' for black."
   ],
   "id": "5ea7c040cfa2aec6"
  },
  {
   "metadata": {},
   "cell_type": "markdown",
   "source": [
    "## Exercise 10: Create an optimal model\n",
    "Build the optimal model using the polynomial degree you selected in exercise 9. To do this, set the appropriate value for the **degree** variable. Analyze the following code. Then, run it and answer the questions.\n",
    "\n",
    "In order to simplify calculations, we will use the **PolynomialFeatures()** function that generates a new feature matrix consisting of all polynomial combinations of the features with degree less than or equal to the specified degree. For example, if an input sample is two dimensional and of the form **[a, b]**, the **degree-2** polynomial features are **[1, a, b, \\\\(a^2\\\\), ab, \\\\(b^2\\\\)]**."
   ],
   "id": "397d39f3536a15b1"
  },
  {
   "metadata": {},
   "cell_type": "code",
   "outputs": [],
   "execution_count": null,
   "source": [
    "from sklearn.preprocessing import PolynomialFeatures\n",
    "from sklearn.pipeline import make_pipeline\n",
    "\n",
    "x = df.Hours_Studied.values.reshape(-1, 1) # Independent variable\n",
    "y = df.Test_Grade                   # Dependent variable\n",
    "\n",
    "degree = 3 # Set the appropriate value\n",
    "model = make_pipeline(PolynomialFeatures(degree), lr)\n",
    "\n",
    "model.fit(x, y)\n",
    "\n",
    "plt.scatter(x, y, color = 'black')\n",
    "plt.plot(x, model.predict(x), color = 'green')\n",
    "plt.title('Grade vs Hours Studied')\n",
    "plt.ylabel('Test_Grade')\n",
    "plt.xlabel('Hours_Studied')\n",
    "plt.show()\n",
    "\n",
    "print('R-squared using built-in function:', r2_score(y, model.predict(x)))"
   ],
   "id": "47024aa7bf89c324"
  },
  {
   "metadata": {},
   "cell_type": "markdown",
   "source": [
    "**Questions:**\n",
    "1. What will the test result be if the student prepares for 6 hours? The code that will calculate this write below.\n",
    "2. What is a difference in predicting the test result for 6 hours of studying compared to the model using the 1st degree polynomial?\n",
    "3. Which value is more accurate and why?\n",
    "\n",
    "**Answers:**"
   ],
   "id": "190d4db75810cf2e"
  },
  {
   "metadata": {},
   "cell_type": "raw",
   "source": "",
   "id": "851e0ca70953a22e"
  }
 ],
 "metadata": {},
 "nbformat": 5,
 "nbformat_minor": 9
}

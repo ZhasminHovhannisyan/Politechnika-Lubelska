{
  "cells": [
    {
      "cell_type": "markdown",
      "metadata": {
        "id": "22WtxbXeFiwL"
      },
      "source": [
        "# 1. NumPy\n",
        "**NumPy** is a core library for scientific computing in Python. It provides a high-performance multidimensional array object and tools for working with these arrays. To use **Numpy**, we first need to import the numpy package."
      ]
    },
    {
      "cell_type": "code",
      "execution_count": null,
      "metadata": {
        "id": "whlNH1tVFiwR"
      },
      "outputs": [],
      "source": [
        "import numpy as np"
      ]
    },
    {
      "cell_type": "markdown",
      "metadata": {
        "id": "48mFWvMWFiwT"
      },
      "source": [
        "## Arrays\n",
        "A numpy array is a collection of the same data type values, and is indexed by a tuple of nonnegative numbers. The rank of the array is the number of dimensions, and the shape of an array is a tuple of numbers giving the size of the array along each dimension. We can initialize numpy arrays from nested Python lists, and access elements using square brackets."
      ]
    },
    {
      "cell_type": "code",
      "execution_count": null,
      "metadata": {
        "colab": {
          "base_uri": "https://localhost:8080/"
        },
        "id": "KrtSjZblFiwU",
        "outputId": "ac0467c5-07d4-49b5-e1e5-7cab5531e3c3"
      },
      "outputs": [
        {
          "output_type": "stream",
          "name": "stdout",
          "text": [
            "[0 1 2]\n",
            "(3,)\n",
            "0\n",
            "1\n",
            "2\n",
            "[5 1 2]\n"
          ]
        }
      ],
      "source": [
        "# Create a rank 1 array\n",
        "a = np.array([0, 1, 2])\n",
        "print (a)\n",
        "\n",
        "# This will print the dimension of the array\n",
        "print (a.shape)\n",
        "print (a[0])\n",
        "print (a[1])\n",
        "print (a[2])\n",
        "\n",
        "# Change an element of the array\n",
        "a[0] = 5\n",
        "print (a)"
      ]
    },
    {
      "cell_type": "code",
      "execution_count": null,
      "metadata": {
        "colab": {
          "base_uri": "https://localhost:8080/"
        },
        "id": "sDvHJXWwFiwU",
        "outputId": "d036c24c-3d32-458a-97c2-73917572946b"
      },
      "outputs": [
        {
          "output_type": "stream",
          "name": "stdout",
          "text": [
            "(2, 3)\n",
            "[[0 1 2]\n",
            " [3 4 5]]\n",
            "0 1 3\n"
          ]
        }
      ],
      "source": [
        "# Create a rank 2 array\n",
        "b = np.array([[0, 1, 2], [3, 4, 5]])\n",
        "print (b.shape)\n",
        "print (b)\n",
        "print (b[0, 0], b[0, 1], b[1, 0])"
      ]
    },
    {
      "cell_type": "markdown",
      "metadata": {
        "id": "Ds9oQLf2FiwV"
      },
      "source": [
        "## Create NumPy array\n",
        "**NumPy** also provides many built-in functions to create arrays."
      ]
    },
    {
      "cell_type": "code",
      "execution_count": null,
      "metadata": {
        "colab": {
          "base_uri": "https://localhost:8080/"
        },
        "id": "5mIfLHZ0FiwV",
        "outputId": "2fc1906f-39ef-4ba3-ff01-5e74c89ef086"
      },
      "outputs": [
        {
          "output_type": "stream",
          "name": "stdout",
          "text": [
            "[[0. 0. 0.]\n",
            " [0. 0. 0.]\n",
            " [0. 0. 0.]]\n"
          ]
        }
      ],
      "source": [
        "# Create a 3x3 array of all zeros\n",
        "a = np.zeros((3, 3))\n",
        "print (a)"
      ]
    },
    {
      "cell_type": "code",
      "execution_count": null,
      "metadata": {
        "colab": {
          "base_uri": "https://localhost:8080/"
        },
        "id": "h-Vwmna2FiwW",
        "outputId": "6b517210-2578-46d3-e2a3-5ee09b0f0d61"
      },
      "outputs": [
        {
          "output_type": "stream",
          "name": "stdout",
          "text": [
            "[[1. 1.]\n",
            " [1. 1.]]\n"
          ]
        }
      ],
      "source": [
        "# Create a 2x2 array of all ones\n",
        "b = np.ones((2, 2))\n",
        "print (b)"
      ]
    },
    {
      "cell_type": "code",
      "execution_count": null,
      "metadata": {
        "colab": {
          "base_uri": "https://localhost:8080/"
        },
        "id": "UD5Da0NeFiwX",
        "outputId": "b7b88e2b-2ffa-4516-9a12-27c48adf2785"
      },
      "outputs": [
        {
          "output_type": "stream",
          "name": "stdout",
          "text": [
            "[[7 7 7]\n",
            " [7 7 7]\n",
            " [7 7 7]]\n"
          ]
        }
      ],
      "source": [
        "# Create a 3x3 constant array\n",
        "c = np.full((3, 3), 7)\n",
        "print (c)"
      ]
    },
    {
      "cell_type": "code",
      "execution_count": null,
      "metadata": {
        "colab": {
          "base_uri": "https://localhost:8080/"
        },
        "id": "KejVJ6F0FiwX",
        "outputId": "2d746863-31be-457a-bf50-37900c675f0c"
      },
      "outputs": [
        {
          "output_type": "stream",
          "name": "stdout",
          "text": [
            "[[0.37725056 0.60132089 0.12731185]\n",
            " [0.95520511 0.63427915 0.43055297]\n",
            " [0.32011621 0.33076796 0.75010521]]\n"
          ]
        }
      ],
      "source": [
        "# Create a 3x3 array filled with random values\n",
        "d = np.random.random((3, 3))\n",
        "print (d)"
      ]
    },
    {
      "cell_type": "code",
      "execution_count": null,
      "metadata": {
        "colab": {
          "base_uri": "https://localhost:8080/"
        },
        "id": "ODISLR7fFiwY",
        "outputId": "264a396a-88b2-47d7-d16a-35c32946abe0"
      },
      "outputs": [
        {
          "output_type": "stream",
          "name": "stdout",
          "text": [
            "[[1. 0. 0.]\n",
            " [0. 1. 0.]\n",
            " [0. 0. 1.]]\n"
          ]
        }
      ],
      "source": [
        "# Create a 3x3 identity matrix\n",
        "e = np.eye(3)\n",
        "print (e)"
      ]
    },
    {
      "cell_type": "code",
      "execution_count": null,
      "metadata": {
        "colab": {
          "base_uri": "https://localhost:8080/"
        },
        "id": "56QTQTP4FiwY",
        "outputId": "f3075e20-2dc3-4a8d-ca58-41c5178c4ac9"
      },
      "outputs": [
        {
          "output_type": "stream",
          "name": "stdout",
          "text": [
            "[2 3 1 0]\n"
          ]
        }
      ],
      "source": [
        "# Convert list to array\n",
        "f = np.array([2, 3, 1, 0])\n",
        "print (f)"
      ]
    },
    {
      "cell_type": "code",
      "execution_count": null,
      "metadata": {
        "colab": {
          "base_uri": "https://localhost:8080/"
        },
        "id": "wMIIP4RjFiwZ",
        "outputId": "0d2f251b-1b91-40ad-d06b-f651a2c91a0c"
      },
      "outputs": [
        {
          "output_type": "stream",
          "name": "stdout",
          "text": [
            "[ 0  1  2  3  4  5  6  7  8  9 10 11 12 13 14 15 16 17 18 19]\n"
          ]
        }
      ],
      "source": [
        "# arange() creates arrays with regularly incrementing values\n",
        "g = np.arange(20)\n",
        "print (g)"
      ]
    },
    {
      "cell_type": "code",
      "execution_count": null,
      "metadata": {
        "colab": {
          "base_uri": "https://localhost:8080/"
        },
        "id": "0MtPHH6FFiwZ",
        "outputId": "9917fbc1-2a72-47ba-b9cb-aeaef4bf9769"
      },
      "outputs": [
        {
          "output_type": "stream",
          "name": "stdout",
          "text": [
            "[[0.+0.j 1.+0.j 2.+0.j]\n",
            " [0.+0.j 0.+0.j 0.+0.j]\n",
            " [1.+1.j 3.+0.j 2.+0.j]]\n"
          ]
        }
      ],
      "source": [
        "# Mix of tuple and lists\n",
        "h = np.array([[0, 1, 2.0], [0, 0, 0], (1 + 1j, 3., 2.)])\n",
        "print (h)"
      ]
    },
    {
      "cell_type": "code",
      "execution_count": null,
      "metadata": {
        "colab": {
          "base_uri": "https://localhost:8080/"
        },
        "id": "vRvrEX-zFiwa",
        "outputId": "4b811293-72d9-47fb-b78c-69f8c0d8c8a5"
      },
      "outputs": [
        {
          "output_type": "stream",
          "name": "stdout",
          "text": [
            "[1. 2. 3. 4. 5. 6. 7.]\n"
          ]
        }
      ],
      "source": [
        "# Create an array of range with float data type\n",
        "i = np.arange(1, 8, dtype = float)\n",
        "print (i)"
      ]
    },
    {
      "cell_type": "code",
      "execution_count": null,
      "metadata": {
        "colab": {
          "base_uri": "https://localhost:8080/"
        },
        "id": "Yc9GsJpbFiwa",
        "outputId": "79b150d7-59cf-41d3-8287-957994ad0f20"
      },
      "outputs": [
        {
          "output_type": "stream",
          "name": "stdout",
          "text": [
            "[2.  2.5 3.  3.5 4. ]\n"
          ]
        }
      ],
      "source": [
        "# linspace() creates arrays with a specified number of items which are\n",
        "# spaced equally between the specified beginning and end values\n",
        "j = np.linspace(2., 4., 5)\n",
        "print (j)"
      ]
    },
    {
      "cell_type": "code",
      "execution_count": null,
      "metadata": {
        "colab": {
          "base_uri": "https://localhost:8080/"
        },
        "id": "sKPRf0jVFiwa",
        "outputId": "c1d220be-e96f-48cd-d024-288cd595ff46"
      },
      "outputs": [
        {
          "output_type": "stream",
          "name": "stdout",
          "text": [
            "[[[0 0]\n",
            "  [1 1]]\n",
            "\n",
            " [[0 1]\n",
            "  [0 1]]]\n"
          ]
        }
      ],
      "source": [
        "# indices() creates a set of arrays stacked as a one-higher\n",
        "# dimensioned array, one per dimension with each representing variation\n",
        "# in that dimension\n",
        "k = np.indices((2, 2))\n",
        "print (k)"
      ]
    },
    {
      "cell_type": "markdown",
      "metadata": {
        "id": "9JIJG5aSFiwa"
      },
      "source": [
        "## Data types\n",
        "Array is a collection of items of same data type, **NumPy** supports and provides a built-in funtion to construct array with optional argument to explicitly specify required datatype."
      ]
    },
    {
      "cell_type": "code",
      "execution_count": null,
      "metadata": {
        "colab": {
          "base_uri": "https://localhost:8080/"
        },
        "id": "BKnyv_sqFiwb",
        "outputId": "fd8c37d5-806f-4381-f720-935861878d0c"
      },
      "outputs": [
        {
          "output_type": "stream",
          "name": "stdout",
          "text": [
            "int64 float64 int64\n"
          ]
        }
      ],
      "source": [
        "# Let numpy choose the datatype\n",
        "x = np.array([0, 1])\n",
        "y = np.array([2.0, 3.0])\n",
        "\n",
        "# Force a particular datatype\n",
        "z = np.array([5, 6], dtype = np.int64)\n",
        "\n",
        "print (x.dtype, y.dtype, z.dtype)"
      ]
    },
    {
      "cell_type": "markdown",
      "metadata": {
        "id": "MBChygS3Fiwb"
      },
      "source": [
        "## Array indexing\n",
        "**Numpy** offers several ways to index into arrays. Standard Python **x[obj]** syntax can be used to index **NumPy** array, where **x** is the array and **obj** the selection.\n",
        "\n",
        "There are 3 kinds of indexing available:\n",
        "- Field access.\n",
        "- Basic slicing.\n",
        "- Advanced indexing.\n",
        "\n",
        "## Field access\n",
        "If the ndarray object is a structured array the fields of the array can be accessed by indexing the array with strings, dictionary like.\n",
        "\n",
        "Indexing **x['field-name']** returns a new view to the array, which is of the same shape as **x** (except when the field is a sub-array) but of data type **x.dtype['field-name']** and contains only the part of the data in the specified field."
      ]
    },
    {
      "cell_type": "code",
      "execution_count": null,
      "metadata": {
        "colab": {
          "base_uri": "https://localhost:8080/"
        },
        "id": "jqItqkXiFiwb",
        "outputId": "f09c868b-7f2c-40ce-e8b7-0a7ae40ccfec"
      },
      "outputs": [
        {
          "output_type": "stream",
          "name": "stdout",
          "text": [
            "x['a'].shape: (3, 3)\n",
            "x['a'].dtype: int32\n",
            "x['b'].shape: (3, 3, 3, 3)\n",
            "x['b'].dtype: float64\n"
          ]
        }
      ],
      "source": [
        "x = np.zeros((3, 3), dtype = [('a', np.int32), ('b', np.float64, (3, 3))])\n",
        "print (\"x['a'].shape:\", x['a'].shape)\n",
        "print (\"x['a'].dtype:\", x['a'].dtype)\n",
        "\n",
        "print (\"x['b'].shape:\", x['b'].shape)\n",
        "print (\"x['b'].dtype:\", x['b'].dtype)"
      ]
    },
    {
      "cell_type": "markdown",
      "metadata": {
        "id": "0e-a8jHkFiwb"
      },
      "source": [
        "## Basic slicing\n",
        "**NumPy** arrays can be sliced, similar to lists. You must specify a slice for each dimension of the array as the arrays may be multidimensional. The basic slice syntax is i:j:k where i is a starting index, j is a stopping index, and k is a step and k not equal to 0."
      ]
    },
    {
      "cell_type": "code",
      "execution_count": null,
      "metadata": {
        "colab": {
          "base_uri": "https://localhost:8080/"
        },
        "id": "2vgfgcYhFiwc",
        "outputId": "5b15e6ff-b42d-42b2-eb86-0e3a73d31747"
      },
      "outputs": [
        {
          "output_type": "execute_result",
          "data": {
            "text/plain": [
              "array([6, 8])"
            ]
          },
          "metadata": {},
          "execution_count": 18
        }
      ],
      "source": [
        "x = np.array([5, 6, 7, 8, 9])\n",
        "x[1:7:2]"
      ]
    },
    {
      "cell_type": "markdown",
      "metadata": {
        "id": "umwhAEj6Fiwc"
      },
      "source": [
        "Negative k makes stepping go towards smaller indices. Negative i and j are interpreted as n+i and n+j where n is the number of elements in a corresponding dimension."
      ]
    },
    {
      "cell_type": "code",
      "execution_count": null,
      "metadata": {
        "colab": {
          "base_uri": "https://localhost:8080/"
        },
        "id": "REnipDW9Fiwc",
        "outputId": "848d865b-faa7-4381-c5c1-0075eae43344"
      },
      "outputs": [
        {
          "output_type": "stream",
          "name": "stdout",
          "text": [
            "[8 9]\n",
            "[9 8 7]\n"
          ]
        }
      ],
      "source": [
        "print (x[-2:5])\n",
        "print (x[-1:1:-1])"
      ]
    },
    {
      "cell_type": "markdown",
      "metadata": {
        "id": "uT-J59jMFiwc"
      },
      "source": [
        "If n is a number of items in the dimension being sliced. Then if i is not given then it defaults to 0 for k>0 and n-1 for k<0. If j is not given it defaults to n for k>0 and -1 for k<0. If k is not given it defaults to 1. Note that :: is the same as : and means select all indices along this axis."
      ]
    },
    {
      "cell_type": "code",
      "execution_count": null,
      "metadata": {
        "colab": {
          "base_uri": "https://localhost:8080/"
        },
        "id": "XnoWmuXmFiwc",
        "outputId": "cd985271-a73d-494f-dccc-3054d2c7fddd"
      },
      "outputs": [
        {
          "output_type": "execute_result",
          "data": {
            "text/plain": [
              "array([9])"
            ]
          },
          "metadata": {},
          "execution_count": 20
        }
      ],
      "source": [
        "x[4:]"
      ]
    },
    {
      "cell_type": "markdown",
      "metadata": {
        "id": "GmPQ9CGRFiwc"
      },
      "source": [
        "If the number of objects in the selection tuple is less than n, then : is assumed for any subsequent dimensions."
      ]
    },
    {
      "cell_type": "code",
      "execution_count": null,
      "metadata": {
        "colab": {
          "base_uri": "https://localhost:8080/"
        },
        "id": "1Q_fl0aFFiwd",
        "outputId": "8553b8fe-7317-4f5b-f8c5-20b321f5cdfc"
      },
      "outputs": [
        {
          "output_type": "stream",
          "name": "stdout",
          "text": [
            "Shape of y: (2, 3, 1)\n"
          ]
        },
        {
          "output_type": "execute_result",
          "data": {
            "text/plain": [
              "array([[[4],\n",
              "        [5],\n",
              "        [6]]])"
            ]
          },
          "metadata": {},
          "execution_count": 21
        }
      ],
      "source": [
        "y = np.array([[[1], [2], [3]], [[4], [5], [6]]])\n",
        "print ('Shape of y:', y.shape)\n",
        "y[1:3]"
      ]
    },
    {
      "cell_type": "markdown",
      "metadata": {
        "id": "rQ5QA8eeFiwd"
      },
      "source": [
        "Ellipsis expands to the number of **:** objects needed to make a selection tuple of the same length as **x.ndim**. There may only be a single ellipsis present."
      ]
    },
    {
      "cell_type": "code",
      "execution_count": null,
      "metadata": {
        "colab": {
          "base_uri": "https://localhost:8080/"
        },
        "id": "-i5xXoX0Fiwd",
        "outputId": "5e4df6ed-f6fe-4f0c-dca4-6aedd944ee27"
      },
      "outputs": [
        {
          "output_type": "execute_result",
          "data": {
            "text/plain": [
              "array(5)"
            ]
          },
          "metadata": {},
          "execution_count": 22
        }
      ],
      "source": [
        "x[..., 0]"
      ]
    },
    {
      "cell_type": "code",
      "execution_count": null,
      "metadata": {
        "colab": {
          "base_uri": "https://localhost:8080/"
        },
        "id": "SndlPpVZFiwd",
        "outputId": "8894d713-9209-4aa0-9719-de82567b52fd"
      },
      "outputs": [
        {
          "output_type": "stream",
          "name": "stdout",
          "text": [
            "Array a:\n",
            " [[ 5  6  7  8]\n",
            " [ 1  2  3  4]\n",
            " [ 9 10 11 12]]\n",
            "Array b:\n",
            " [[6 7]\n",
            " [2 3]]\n"
          ]
        }
      ],
      "source": [
        "# Create a rank 2 array with shape (3, 4)\n",
        "a = np.array([[5, 6, 7, 8], [1, 2, 3, 4], [9, 10, 11, 12]])\n",
        "print ('Array a:\\n', a)\n",
        "\n",
        "# Use slicing to pull out the subarray consisting of the first 2 rows\n",
        "# and columns 1 and 2; b is the following array of shape (2, 2):\n",
        "# [[2 3]\n",
        "#  [6 7]]\n",
        "b = a[:2, 1:3]\n",
        "print ('Array b:\\n', b)"
      ]
    },
    {
      "cell_type": "markdown",
      "metadata": {
        "id": "wwSFUfWQFiwe"
      },
      "source": [
        "A slice of an array is just a view into the same data, so any modification will modify the original array."
      ]
    },
    {
      "cell_type": "code",
      "execution_count": null,
      "metadata": {
        "colab": {
          "base_uri": "https://localhost:8080/"
        },
        "id": "Cys8wZBrFiwe",
        "outputId": "793cdb98-6616-42c3-8df1-c500712d0ce0"
      },
      "outputs": [
        {
          "output_type": "stream",
          "name": "stdout",
          "text": [
            "6\n",
            "77\n"
          ]
        }
      ],
      "source": [
        "print (a[0, 1])\n",
        "b[0, 0] = 77    # b[0, 0] is the same piece of data as a[0, 1]\n",
        "print (a[0, 1])"
      ]
    },
    {
      "cell_type": "markdown",
      "metadata": {
        "id": "Q_RrhDrHFiwe"
      },
      "source": [
        "Middle row array can be accessed in 2 ways:\n",
        "1. Slices along with integer indexing will result in an array of lower rank.\n",
        "2. Using only slices will result in the same rank array."
      ]
    },
    {
      "cell_type": "code",
      "execution_count": null,
      "metadata": {
        "colab": {
          "base_uri": "https://localhost:8080/"
        },
        "id": "lXZ--GE1Fiwe",
        "outputId": "51541c8e-e4e7-4a29-e04d-8a7e13b5be36"
      },
      "outputs": [
        {
          "output_type": "stream",
          "name": "stdout",
          "text": [
            "[[ 1  2  3  4]\n",
            " [ 5  6  7  8]\n",
            " [ 9 10 11 12]]\n"
          ]
        }
      ],
      "source": [
        "# Create the following rank 2 array with shape (3, 4)\n",
        "a = np.array([[1, 2, 3, 4], [5, 6, 7, 8], [9, 10, 11, 12]])\n",
        "print (a)"
      ]
    },
    {
      "cell_type": "markdown",
      "metadata": {
        "id": "DJ0KslUWFiwf"
      },
      "source": [
        "Two ways of accessing the data in the middle row of the array. Mixing integer indexing with slices yields an array of lower rank, while using only slices yields an array of the same rank as the original array."
      ]
    },
    {
      "cell_type": "code",
      "execution_count": null,
      "metadata": {
        "id": "2UJTyljkFiwf"
      },
      "outputs": [],
      "source": [
        "row_r1 = a[1, :]    # Rank 1 view of the second row of a\n",
        "row_r2 = a[1:2, :]  # Rank 2 view of the second row of a\n",
        "row_r3 = a[[1], :]  # Rank 2 view of the second row of a\n",
        "print (row_r1, row_r1.shape)\n",
        "print (row_r2, row_r2.shape)\n",
        "print (row_r3, row_r3.shape)"
      ]
    },
    {
      "cell_type": "code",
      "execution_count": null,
      "metadata": {
        "id": "6b81LAMQFiwf"
      },
      "outputs": [],
      "source": [
        "# We can make the same distinction when accessing columns of an array\n",
        "col_r1 = a[:, 1]\n",
        "col_r2 = a[:, 1:2]\n",
        "print (col_r1, col_r1.shape)\n",
        "print (col_r2, col_r2.shape)"
      ]
    },
    {
      "cell_type": "markdown",
      "metadata": {
        "id": "Ln9xquqiFiwl"
      },
      "source": [
        "# 2. Matplotlib\n",
        "**Matplotlib** is a numerical mathematics extension of **NumPy** and a great package to view or present data in a pictorial or graphical format. It enables analytics and decision makers to see data presented visually, so they can grasp difficult concepts or identify new patterns."
      ]
    },
    {
      "cell_type": "code",
      "execution_count": null,
      "metadata": {
        "id": "V1tLityqFiwl"
      },
      "outputs": [],
      "source": [
        "import numpy as np\n",
        "import pandas as pd\n",
        "from pandas import DataFrame, Series\n",
        "import matplotlib.pyplot as plt\n",
        "import matplotlib\n",
        "\n",
        "# Hide all warning messages\n",
        "import warnings\n",
        "warnings.filterwarnings('ignore')"
      ]
    },
    {
      "cell_type": "markdown",
      "metadata": {
        "id": "H7fWxde6Fiwl"
      },
      "source": [
        "There are 2 broad ways of using pyplot:\n",
        "1. The most common and easy approach of using global functions to build and display a global figure using matplotlib as a global state machine.\n",
        "2. The second way is object oriented. You obtain an empty figure from a global factory, and then build the plot explicitly using the methods of the Figure and the classes it contains.\n",
        "\n",
        "## 2.1. Using global functions\n",
        "- **plt.bar** – creates a bar chart\n",
        "- **plt.scatter** – makes a scatter plot\n",
        "- **plt.boxplot** – makes a box and whisker plot\n",
        "- **plt.hist** – makes a histogram\n",
        "- **plt.plot** – creates a line plot"
      ]
    },
    {
      "cell_type": "code",
      "execution_count": null,
      "metadata": {
        "id": "dWaglqYkFiwm"
      },
      "outputs": [],
      "source": [
        "# Simple bar and scatter plot\n",
        "x = np.arange(5)          # Assume there are 5 students\n",
        "y = (20, 35, 30, 35, 27)  # Their test scores\n",
        "plt.bar(x,y)              # Barplot\n",
        "# Need to close the figure using show() or close(), if not closed any follow up plot commands will use same figure.\n",
        "plt.show()                # Try commenting this and run\n",
        "plt.scatter(x, y)         # Scatter plot\n",
        "plt.show()"
      ]
    },
    {
      "cell_type": "code",
      "execution_count": null,
      "metadata": {
        "id": "-3JrJnqoFiwm"
      },
      "outputs": [],
      "source": [
        "# You can also create the histogram, line graph and the boxplot directly on a dataframe\n",
        "df = pd.read_csv('iris.csv')\n",
        "print('Histogram')\n",
        "df.hist()\n",
        "plt.show()"
      ]
    },
    {
      "cell_type": "code",
      "execution_count": null,
      "metadata": {
        "id": "ycUvxwNjFiwm"
      },
      "outputs": [],
      "source": [
        "print('Line graph')\n",
        "df.plot()\n",
        "plt.show()"
      ]
    },
    {
      "cell_type": "code",
      "execution_count": null,
      "metadata": {
        "id": "sIkPg3ZJFiwm"
      },
      "outputs": [],
      "source": [
        "print('Box plot')\n",
        "df.boxplot()\n",
        "plt.show()"
      ]
    },
    {
      "cell_type": "markdown",
      "metadata": {
        "id": "JtThjP4FFiwn"
      },
      "source": [
        "## Customize axis labels"
      ]
    },
    {
      "cell_type": "code",
      "execution_count": null,
      "metadata": {
        "id": "42rd5r2bFiwn"
      },
      "outputs": [],
      "source": [
        "# Generate sample data\n",
        "x = np.linspace(0, 20, 1000)  # 100 evenly-spaced values from 0 to 50\n",
        "y = np.sin(x)\n",
        "\n",
        "plt.plot(x, y) # Simple line plot\n",
        "plt.show()"
      ]
    },
    {
      "cell_type": "code",
      "execution_count": null,
      "metadata": {
        "id": "ylX1UHm8Fiwn"
      },
      "outputs": [],
      "source": [
        "# Customize axis labels\n",
        "plt.plot(x, y, label = 'Sample Label')\n",
        "plt.title('Sample Plot Title')         # chart title\n",
        "plt.xlabel('x axis label')             # x axis title\n",
        "plt.ylabel('y axis label')             # y axis title\n",
        "plt.grid(True)                         # show gridlines\n",
        "plt.figtext(0.995, 0.01, 'Footnote', ha = 'right', va = 'bottom')   # add footnote\n",
        "plt.legend(loc = 'best', framealpha = 0.5, prop = {'size':'small'}) # add legend, location pick the best automatically\n",
        "\n",
        "# tight_layout() can take keyword arguments of pad, w_pad and h_pad.\n",
        "# These control the extra padding around the figure border and between subplots.\n",
        "# The pads are specified in fraction of fontsize.\n",
        "plt.tight_layout(pad = 1)"
      ]
    },
    {
      "cell_type": "markdown",
      "metadata": {
        "id": "OiJNEexCFiwn"
      },
      "source": [
        "## 2.2. Using the object oriented way\n",
        "The **Figure** is a top-level container for everything on a canvas. It is obtained from the global **Figure** factory.\n",
        "\n",
        "## An Axes or Subplot (a subclass of Axes)\n",
        "An **Axes** is a container class for a specific plot. A figure may contain many **Axes** and/or **Subplots**. **Subplots** are laid out in a grid within the **Figure**. **Axes** can be placed anywhere on the **Figure**.\n",
        "\n",
        "ax = fig.add_subplot(2, 2, 1) # row-col-num\n",
        "\n",
        "ax = fig.add_axes([0.1, 0.1, 0.8, 0.8])\n",
        "\n",
        "## All at once\n",
        "We can use the subplots factory to get the **Figure** and all the desired **Axes** at once."
      ]
    },
    {
      "cell_type": "code",
      "execution_count": null,
      "metadata": {
        "id": "SfYtD6Q_Fiwo"
      },
      "outputs": [],
      "source": [
        "fig, ax = plt.subplots()\n",
        "fig, (ax1, ax2, ax3) = plt.subplots(nrows = 3, ncols = 1, sharex = True, figsize = (8, 4))"
      ]
    },
    {
      "cell_type": "markdown",
      "metadata": {
        "id": "axp8w4YWFiwo"
      },
      "source": [
        "## Line plots – using ax.plot()\n",
        "Single plot constructed with **Figure** and **Axes**."
      ]
    },
    {
      "cell_type": "code",
      "execution_count": null,
      "metadata": {
        "id": "SDN_CNr4Fiwo"
      },
      "outputs": [],
      "source": [
        "# Generate sample data\n",
        "x = np.linspace(0, 20, 1000)\n",
        "y = np.sin(x)\n",
        "\n",
        "fig = plt.figure(figsize = (8, 4))                       # get an empty figure and add an Axes\n",
        "ax = fig.add_subplot(1, 1, 1)                            # row-col-num\n",
        "ax.plot(x, y, 'b-', linewidth = 3, label = 'Sample label') # line plot data on the Axes\n",
        "# add title, labels and legend, etc.\n",
        "ax.set_ylabel('y axis label', fontsize = 16)             # y label\n",
        "ax.set_xlabel('x axis label', fontsize = 16)             # x label\n",
        "ax.legend(loc = 'best')                                  # legend\n",
        "ax.grid(True)                                            # show grid\n",
        "fig.suptitle('Sample Plot Title')                        # title\n",
        "fig.tight_layout(pad = 2)                                # tidy laytout\n",
        "fig.savefig('filename.png', dpi = 125)"
      ]
    },
    {
      "cell_type": "markdown",
      "metadata": {
        "id": "SqUbJENoFiwp"
      },
      "source": [
        "## Multiple lines on same axis"
      ]
    },
    {
      "cell_type": "code",
      "execution_count": null,
      "metadata": {
        "id": "2Z5Z9MhjFiwp"
      },
      "outputs": [],
      "source": [
        "# Get the Figure and Axes all at once\n",
        "fig, ax = plt.subplots(figsize = (8, 4))\n",
        "\n",
        "x1 = np.linspace(0, 100, 20)\n",
        "x2 = np.linspace(0, 100, 20)\n",
        "x3 = np.linspace(0, 100, 20)\n",
        "y1 = np.sin(x1)\n",
        "y2 = np.cos(x2)\n",
        "y3 = np.tan(x3)\n",
        "\n",
        "ax.plot(x1, y1, label = 'sin')\n",
        "ax.plot(x2, y2, label = 'cos')\n",
        "ax.plot(x3, y3, label = 'tan')\n",
        "\n",
        "# Add grid, legend, title and save\n",
        "ax.grid(True)\n",
        "ax.legend(loc = 'best', prop = {'size':'large'})\n",
        "fig.suptitle('A Simple Multi Axis Line Plot')\n",
        "fig.tight_layout(pad = 2)\n",
        "fig.savefig('filename.png', dpi = 125)"
      ]
    },
    {
      "cell_type": "markdown",
      "metadata": {
        "id": "io_KP0F_Fiwp"
      },
      "source": [
        "## Mulitple lines on different axis"
      ]
    },
    {
      "cell_type": "code",
      "execution_count": null,
      "metadata": {
        "id": "mTsw3QZhFiwq"
      },
      "outputs": [],
      "source": [
        "# Changing sharex to True will use the same x axis\n",
        "fig, (ax1, ax2, ax3) = plt.subplots(nrows = 3, ncols = 1, sharex = False, sharey = False, figsize = (8, 4))\n",
        "\n",
        "# Plot some lines\n",
        "x1 = np.linspace(0, 100, 20)\n",
        "x2 = np.linspace(0, 100, 20)\n",
        "x3 = np.linspace(0, 100, 20)\n",
        "y1 = np.sin(x1)\n",
        "y2 = np.cos(x2)\n",
        "y3 = np.tan(x3)\n",
        "\n",
        "ax1.plot(x1, y1, label = 'sin')\n",
        "ax2.plot(x2, y2, label = 'cos')\n",
        "ax3.plot(x3, y3, label = 'tan')\n",
        "\n",
        "# Add grid, legend, title and save\n",
        "ax1.grid(True)\n",
        "ax2.grid(True)\n",
        "ax3.grid(True)\n",
        "\n",
        "ax1.legend(loc = 'best', prop = {'size':'large'})\n",
        "ax2.legend(loc = 'best', prop = {'size':'large'})\n",
        "ax3.legend(loc = 'best', prop = {'size':'large'})\n",
        "\n",
        "fig.suptitle('A Simple Multi Axis Line Plot')\n",
        "fig.tight_layout(pad = 2)\n",
        "fig.savefig('filename.png', dpi = 125)"
      ]
    },
    {
      "cell_type": "markdown",
      "metadata": {
        "id": "her2gsYiFiwq"
      },
      "source": [
        "## Control line style and marker style"
      ]
    },
    {
      "cell_type": "code",
      "execution_count": null,
      "metadata": {
        "id": "hQZISAjwFiwr"
      },
      "outputs": [],
      "source": [
        "# Get the Figure and Axes all at once\n",
        "fig, ax = plt.subplots(figsize = (8, 4))\n",
        "\n",
        "# Plot some lines\n",
        "N = 3 # The number of lines we will plot\n",
        "styles =  ['-', '--', '-.', ':']\n",
        "markers = list('+ox')\n",
        "x = np.linspace(0, 100, 20)\n",
        "for i in range(N): # Add line-by-line\n",
        "    y = x + x/5*i + i\n",
        "    s = styles[i % len(styles)]\n",
        "    m = markers[i % len(markers)]\n",
        "    ax.plot(x, y, alpha = 1, label = 'Line ' + str(i+1) + ' ' + s + m,\n",
        "                  marker = m, linewidth = 2, linestyle = s)\n",
        "# Add grid, legend, title and save\n",
        "ax.grid(True)\n",
        "ax.legend(loc = 'best', prop = {'size':'large'})\n",
        "fig.suptitle('A Simple Line Plot')\n",
        "fig.tight_layout(pad = 2)\n",
        "fig.savefig('filename.png', dpi = 125)"
      ]
    },
    {
      "cell_type": "markdown",
      "metadata": {
        "id": "nq-8wf_mFiwr"
      },
      "source": [
        "## Bar plots – using ax.bar() and ax.barh()"
      ]
    },
    {
      "cell_type": "code",
      "execution_count": null,
      "metadata": {
        "id": "sWQnDTKLFiws"
      },
      "outputs": [],
      "source": [
        "# Get the data\n",
        "N = 4\n",
        "labels = list('ABCD')\n",
        "data = np.array(range(N)) + np.random.rand(N)\n",
        "\n",
        "# Plot the data\n",
        "fig, ax = plt.subplots(figsize = (8, 3.5))\n",
        "width = 0.5;\n",
        "tickLocations = np.arange(N)\n",
        "rectLocations = tickLocations - (width / 2.0)\n",
        "\n",
        "# For color either HEX value of the name of the color can be used\n",
        "ax.bar(rectLocations, data, width,\n",
        "       color = 'lightblue',\n",
        "       edgecolor = '#1f10ed', linewidth = 4.0)\n",
        "\n",
        "# Tidy-up the plot\n",
        "ax.set_xticks(ticks = tickLocations)\n",
        "ax.set_xticklabels(labels)\n",
        "ax.set_xlim(min(tickLocations) - 0.6, max(tickLocations) + 0.6)\n",
        "ax.set_yticks(range(N)[1:])\n",
        "ax.set_ylim((0, N))\n",
        "ax.set_ylabel('y axis label', fontsize = 8)             # y label\n",
        "ax.set_xlabel('x axis lable', fontsize = 8)             # x label\n",
        "ax.yaxis.grid(True)\n",
        "\n",
        "# Title and save\n",
        "fig.suptitle('Bar Plot')\n",
        "fig.tight_layout(pad = 2)\n",
        "fig.savefig('filename.png', dpi = 125)"
      ]
    },
    {
      "cell_type": "markdown",
      "metadata": {
        "id": "a6ub3VtdFiwt"
      },
      "source": [
        "## Horizontal bar charts\n",
        "Just as tick placement needs to be managed with vertical bars, so with horizontal bars which are above the y-tick mark."
      ]
    },
    {
      "cell_type": "code",
      "execution_count": null,
      "metadata": {
        "id": "dWLF8xapFiwt"
      },
      "outputs": [],
      "source": [
        "# Get the data\n",
        "N = 4\n",
        "labels = list('ABCD')\n",
        "data = np.array(range(N)) + np.random.rand(N)\n",
        "\n",
        "# Plot the data\n",
        "fig, ax = plt.subplots(figsize = (8, 3.5))\n",
        "width = 0.5;\n",
        "tickLocations = np.arange(N)\n",
        "rectLocations = tickLocations - (width / 2.0)\n",
        "\n",
        "# For color either HEX value of the name of the color can be used\n",
        "ax.barh(rectLocations, data, width, color = 'lightblue')\n",
        "\n",
        "# Tidy-up the plot\n",
        "ax.set_yticks(ticks = tickLocations)\n",
        "ax.set_yticklabels(labels)\n",
        "ax.set_ylim(min(tickLocations) - 0.6, max(tickLocations) + 0.6)\n",
        "ax.xaxis.grid(True)\n",
        "ax.set_ylabel('y axis label', fontsize = 8)             # y label\n",
        "ax.set_xlabel('x axis lable', fontsize = 8)             # x label\n",
        "\n",
        "# Title and save\n",
        "fig.suptitle('Bar Plot')\n",
        "fig.tight_layout(pad = 2)\n",
        "fig.savefig('filename.png', dpi = 125)"
      ]
    },
    {
      "cell_type": "markdown",
      "metadata": {
        "id": "eLbdqIu1Fiwu"
      },
      "source": [
        "## Side by side bar chart"
      ]
    },
    {
      "cell_type": "code",
      "execution_count": null,
      "metadata": {
        "id": "hTA8ttuDFiwu"
      },
      "outputs": [],
      "source": [
        "# Generate sample data\n",
        "pre = np.array([19, 6, 11, 9])\n",
        "post = np.array([15, 11, 9, 8])\n",
        "labels=['Survey ' + x for x in list('ABCD')]\n",
        "\n",
        "# The plot – left then right\n",
        "fig, ax = plt.subplots(figsize = (8, 3.5))\n",
        "width = 0.4 # Bar width\n",
        "xlocs = np.arange(len(pre))\n",
        "ax.bar(xlocs - width, pre, width,\n",
        "       color = 'green', label = 'True')\n",
        "ax.bar(xlocs, post, width,\n",
        "       color = '#1f10ed', label = 'False')\n",
        "\n",
        "# Labels, grids and title, then save\n",
        "ax.set_xticks(ticks = range(len(pre)))\n",
        "ax.set_xticklabels(labels)\n",
        "ax.yaxis.grid(True)\n",
        "ax.legend(loc = 'best')\n",
        "ax.set_ylabel('Count')\n",
        "fig.suptitle('Sample Chart')\n",
        "fig.tight_layout(pad = 2)\n",
        "fig.savefig('filename.png', dpi = 125)"
      ]
    },
    {
      "cell_type": "markdown",
      "metadata": {
        "id": "V03k3q4aFiwv"
      },
      "source": [
        "## Stacked bar"
      ]
    },
    {
      "cell_type": "code",
      "execution_count": null,
      "metadata": {
        "id": "MuCiFpHjFiwv"
      },
      "outputs": [],
      "source": [
        "# Generate sample data\n",
        "pre = np.array([19, 6, 11, 9])\n",
        "post = np.array([15, 11, 9, 8])\n",
        "labels = ['Survey ' + x for x in list('ABCD')]\n",
        "\n",
        "# The plot – left then right\n",
        "fig, ax = plt.subplots(figsize = (8, 3.5))\n",
        "width = 0.4 # Bar width\n",
        "xlocs = np.arange(len(pre) + 2)\n",
        "adjlocs = xlocs[1:-1] - width / 2.0\n",
        "ax.bar(adjlocs, pre, width,\n",
        "       color = 'grey', label = 'True')\n",
        "ax.bar(adjlocs, post, width,\n",
        "       color = 'cyan', label = 'False',\n",
        "       bottom = pre)\n",
        "# Labels, grids and title, then save\n",
        "ax.set_xticks(ticks = xlocs[1:-1])\n",
        "ax.set_xticklabels(labels)\n",
        "ax.yaxis.grid(True)\n",
        "ax.legend(loc = 'best')\n",
        "ax.set_ylabel('Count')\n",
        "fig.suptitle('Sample Chart')\n",
        "fig.tight_layout(pad = 2)\n",
        "fig.savefig('filename.png', dpi = 125)"
      ]
    },
    {
      "cell_type": "markdown",
      "metadata": {
        "id": "YIkW1aalFiww"
      },
      "source": [
        "## Pie Chart – using ax.pie()"
      ]
    },
    {
      "cell_type": "code",
      "execution_count": null,
      "metadata": {
        "id": "nKz10CYEFiww"
      },
      "outputs": [],
      "source": [
        "# Generate sample data\n",
        "data = np.array([15, 8, 4])\n",
        "labels = ['Feature Engineering', 'Model Tuning', 'Model Building']\n",
        "explode = (0, 0.1, 0) # Explode feature engineering\n",
        "colrs = ['cyan', 'tan', 'wheat']\n",
        "\n",
        "# Plot\n",
        "fig, ax = plt.subplots(figsize = (8, 3.5))\n",
        "ax.pie(data, explode = explode,\n",
        "       labels = labels, autopct = '%1.1f%%',\n",
        "       startangle = 270, colors = colrs)\n",
        "ax.axis('equal') # Keep it a circle\n",
        "\n",
        "# Tidy-up and save\n",
        "fig.suptitle('ML Pie')\n",
        "fig.tight_layout(pad = 2)\n",
        "fig.savefig('filename.png', dpi = 125)"
      ]
    },
    {
      "cell_type": "markdown",
      "metadata": {
        "id": "tMb1rU_8Fiwx"
      },
      "source": [
        "# 3. Pandas\n",
        "**Pandas** is an open source Python package providing fast, flexible, and expressive data structures designed to make working with “relational” or “labeled” data both easy and intuitive."
      ]
    },
    {
      "cell_type": "code",
      "execution_count": null,
      "metadata": {
        "id": "1lkKMDfTFiwx"
      },
      "outputs": [],
      "source": [
        "import pandas as pd\n",
        "import numpy as np\n",
        "import matplotlib.pyplot as plt"
      ]
    },
    {
      "cell_type": "markdown",
      "metadata": {
        "id": "DqwzXaYeFiwy"
      },
      "source": [
        "Two key data structures were introduced to Python by Pandas, both of which are essentially built on top of NumPy and inherits its fast performance:\n",
        "- Series\n",
        "- DataFrame\n",
        "\n",
        "## Series\n",
        "This is a 1-dimensional object similar to column in a spreadsheet or SQL table. By default each item will be assigned a index label from **0** to **N**."
      ]
    },
    {
      "cell_type": "code",
      "execution_count": null,
      "metadata": {
        "id": "4FjqU96MFiwy"
      },
      "outputs": [],
      "source": [
        "# Creating a series by passing a list of values, and a custom index label.\n",
        "# Note that the labeled index reference for each row can have duplicate values.\n",
        "s = pd.Series([1, 2, 3, np.nan, 5, 6], index = ['A', 'A', 'C', 'D', 'E', 'D'])\n",
        "print (s)"
      ]
    },
    {
      "cell_type": "markdown",
      "metadata": {
        "id": "ibOs2XUPFiwz"
      },
      "source": [
        "If you create a series using dictionary the key will become the index by default."
      ]
    },
    {
      "cell_type": "code",
      "execution_count": null,
      "metadata": {
        "id": "YNfEfkP5Fiwz"
      },
      "outputs": [],
      "source": [
        " # The Series constructor can convert a dictonary as well, using the keys of the dictionary as its index\n",
        "sample_dict = {'A':1, 'B':2, 'C':3, 'D':np.nan, 'E':5, 'F':6}\n",
        "\n",
        "s = pd.Series(sample_dict)\n",
        "print (s)"
      ]
    },
    {
      "cell_type": "markdown",
      "metadata": {
        "id": "_k02tHsFFiwz"
      },
      "source": [
        "## DataFrame\n",
        "It is a 2-dimensional object similar to spreadsheet or a SQL table. This is the most commonly used Pandas object."
      ]
    },
    {
      "cell_type": "code",
      "execution_count": null,
      "metadata": {
        "id": "KCz_W_o1Fiwz"
      },
      "outputs": [],
      "source": [
        "data = {'Gender': ['F', 'M', 'M'],\n",
        "        'Emp_ID': ['E01', 'E02', 'E03'],\n",
        "        'Age': [25, 27, 25]}\n",
        "\n",
        "# We want the order the columns, so lets specify in columns parameter\n",
        "df = pd.DataFrame(data, columns = ['Emp_ID','Gender', 'Age'])\n",
        "df"
      ]
    },
    {
      "cell_type": "markdown",
      "metadata": {
        "id": "BhcJsBAjFiw0"
      },
      "source": [
        "## Reading and writing data\n",
        "We'll see 3 commonly used file format under reading and writing:\n",
        "- csv\n",
        "- txt\n",
        "- Excel\n",
        "\n",
        "Note: Write will by default overwrite any existing file with same name."
      ]
    },
    {
      "cell_type": "code",
      "execution_count": null,
      "metadata": {
        "id": "-rQ1sxINFiw0"
      },
      "outputs": [],
      "source": [
        "# From csv\n",
        "df = pd.read_csv('mtcars.csv')\n",
        "\n",
        "# To csv, index = False will not write the row numbers\n",
        "df.to_csv('mtcars_new.csv', index = False)"
      ]
    },
    {
      "cell_type": "code",
      "execution_count": null,
      "metadata": {
        "id": "prPioa1zFiw0"
      },
      "outputs": [],
      "source": [
        "# From txt file\n",
        "df = pd.read_csv('mtcars.txt', sep = '\\t')\n",
        "\n",
        "# To txt, index = False will not write the row numbers\n",
        "df.to_csv('mtcars_new.txt', sep = '\\t', index = False)"
      ]
    },
    {
      "cell_type": "code",
      "execution_count": null,
      "metadata": {
        "id": "rG3khsvrFiw1"
      },
      "outputs": [],
      "source": [
        "# From Excel\n",
        "df = pd.read_excel('mtcars.xlsx', 'Sheet2')\n",
        "\n",
        "df.to_excel('mtcars_new.xlsx', sheet_name = 'Sheet1', index = False)\n",
        "\n",
        "# Reading from multiple sheets of same Excel into different dataframes\n",
        "# xlsx = pd.ExcelFile('file_name.xls')\n",
        "# sheet1_df = pd.read_excel(xlsx, 'Sheet1')\n",
        "# sheet2_df = pd.read_excel(xlsx, 'Sheet2')"
      ]
    },
    {
      "cell_type": "markdown",
      "metadata": {
        "id": "Tc58bJt7Fiw1"
      },
      "source": [
        "After executing the code above, check the content of the files that were created in the working directory."
      ]
    },
    {
      "cell_type": "markdown",
      "metadata": {
        "id": "Iuqc9_dYFiw2"
      },
      "source": [
        "## Basic statistics on DataFrame\n",
        "**describe()** - returns the quick stats such as **count**, **mean**, **std**, **min**, **first quartile**, **median**, **third quartile**, **max** on each column of the **DataFrame**."
      ]
    },
    {
      "cell_type": "code",
      "execution_count": null,
      "metadata": {
        "id": "eH1wXpJXFiw2"
      },
      "outputs": [],
      "source": [
        "# Summary statistics for the dataframe\n",
        "\n",
        "df = pd.read_csv('iris.csv')\n",
        "df.describe()"
      ]
    },
    {
      "cell_type": "markdown",
      "metadata": {
        "id": "mFZO11gmFiw2"
      },
      "source": [
        "## Covariance\n",
        "**Covariance** is one of the fundamental technique to understand the relation between two variable. A positive covariance number between two variables means that they are positively related, while a negative covariance number means the variables are inversely related.\n",
        "\n",
        "The key drawback of covariance is that its value depends on the units of measurement of both characteristics. Consequently, covariance cannot determine the degree of intensity (strength) of the relation."
      ]
    },
    {
      "cell_type": "code",
      "execution_count": null,
      "metadata": {
        "id": "7KSB7UKbFiw3"
      },
      "outputs": [],
      "source": [
        "# Covariance: It returns the co-variance between suitable columns\n",
        "df.cov()"
      ]
    },
    {
      "cell_type": "markdown",
      "metadata": {
        "id": "VRWI3nWVFiw3"
      },
      "source": [
        "## Correlation\n",
        "**Correlation** is another most commonly used technique to determine the relationship between two variables. Correlation will explain wheather variables are positively or inversely related, also number tells us the degree to which the variables tend to move together.\n",
        "\n",
        "When we say that two items are correlated means that the change in one item effects a change in another item. Correlation is always a range between **-1** and **1**. For example, if two items have a correlation of **0.6** (60%) means that change in one item results in positive **60%** change to another item."
      ]
    },
    {
      "cell_type": "code",
      "execution_count": null,
      "metadata": {
        "id": "vUSZMYD6Fiw4"
      },
      "outputs": [],
      "source": [
        "# Correlation: It returns the correlation between suitable columns.\n",
        "df.corr()"
      ]
    },
    {
      "cell_type": "markdown",
      "metadata": {
        "id": "k8I2KnxbFiw4"
      },
      "source": [
        "## Viewing data"
      ]
    },
    {
      "cell_type": "code",
      "execution_count": null,
      "metadata": {
        "id": "t9CcygMBFiw4"
      },
      "outputs": [],
      "source": [
        "# Looking at the top n records\n",
        "# View 1st 2 rows. If n not specified the default value is 5\n",
        "df.head(n = 2)"
      ]
    },
    {
      "cell_type": "code",
      "execution_count": null,
      "metadata": {
        "id": "KHYku_1LFiw4"
      },
      "outputs": [],
      "source": [
        "# Looking at the bottom n records\n",
        "df.tail()"
      ]
    },
    {
      "cell_type": "code",
      "execution_count": null,
      "metadata": {
        "id": "MO4a0VjmFiw5"
      },
      "outputs": [],
      "source": [
        "df.dtypes"
      ]
    },
    {
      "cell_type": "code",
      "execution_count": null,
      "metadata": {
        "id": "yXL9KL3jFiw5"
      },
      "outputs": [],
      "source": [
        "print ('Column Names:' , df.columns)"
      ]
    },
    {
      "cell_type": "code",
      "execution_count": null,
      "metadata": {
        "id": "zFTRqAQpFiw5"
      },
      "outputs": [],
      "source": [
        "print ('DataFrame Index:', df.index)"
      ]
    },
    {
      "cell_type": "code",
      "execution_count": null,
      "metadata": {
        "id": "c389SE3DFiw6"
      },
      "outputs": [],
      "source": [
        "# Get dataframe values only\n",
        "print (df['Sepal.Length'].values) # For a specific column\n",
        "print (df.values) # Entire dataframe"
      ]
    },
    {
      "cell_type": "code",
      "execution_count": null,
      "metadata": {
        "id": "7xIBUl9vFiw6"
      },
      "outputs": [],
      "source": [
        "# Identify unique values of a column\n",
        "df['Species'].unique()"
      ]
    },
    {
      "cell_type": "code",
      "execution_count": null,
      "metadata": {
        "id": "UGgGoDMzFiw6"
      },
      "outputs": [],
      "source": [
        "# Sort your dataframe\n",
        "df.sort_values(by = ['Species', 'Sepal.Length'], ascending = [True, True])"
      ]
    },
    {
      "cell_type": "code",
      "execution_count": null,
      "metadata": {
        "id": "x9XiQJWVFiw6"
      },
      "outputs": [],
      "source": [
        "# Selection/view by column name\n",
        "df['Species']"
      ]
    },
    {
      "cell_type": "code",
      "execution_count": null,
      "metadata": {
        "id": "ZMDXA_XsFiw7"
      },
      "outputs": [],
      "source": [
        "# Selection by row numbers\n",
        "df[0:3]"
      ]
    },
    {
      "cell_type": "markdown",
      "metadata": {
        "id": "shWsryOgFiw7"
      },
      "source": [
        "## Different selection by label options\n",
        "- **loc** - only works on index;\n",
        "- **iloc** - works on position;\n",
        "- **iat** - gets scalar values. It's a very fast iloc."
      ]
    },
    {
      "cell_type": "code",
      "execution_count": null,
      "metadata": {
        "id": "enbgjicqFiw7"
      },
      "outputs": [],
      "source": [
        "# Selection by index\n",
        "print (df.loc[0:2])\n",
        "\n",
        "# Selection by index of specific label names\n",
        "print (df.loc[0:3,['Species', 'Petal.Width']])"
      ]
    },
    {
      "cell_type": "code",
      "execution_count": null,
      "metadata": {
        "id": "AbmTG3xnFiw7"
      },
      "outputs": [],
      "source": [
        "# Selection by position\n",
        "print (df.iloc[0:2])"
      ]
    },
    {
      "cell_type": "code",
      "execution_count": null,
      "metadata": {
        "id": "_mZoXZANFiw8"
      },
      "outputs": [],
      "source": [
        "# Selection by position between given rows as range\n",
        "df.iloc[0:2, 0:2]"
      ]
    },
    {
      "cell_type": "code",
      "execution_count": null,
      "metadata": {
        "id": "YveJWixkFiw8"
      },
      "outputs": [],
      "source": [
        "# Selection by position between given specific row numbers\n",
        "df.iloc[[1, 2, 4], [0, 2]]"
      ]
    },
    {
      "cell_type": "code",
      "execution_count": null,
      "metadata": {
        "id": "5nT9qtiDFiw9"
      },
      "outputs": [],
      "source": [
        "# Selectcion by row and column index (index starts with 0).\n",
        "# Below case will fetch the [first row index, first column index] value\n",
        "print (df.iat[1, 1])  # Gets scalar values. It's a very fast iloc\n",
        "print (df.iloc[1, 1])   # Gets data from dataframe without it being in the index\n",
        "\n",
        "print (df.iloc[:, 2]) # Select column by position"
      ]
    },
    {
      "cell_type": "code",
      "execution_count": null,
      "metadata": {
        "id": "mg0s2PXkFiw9"
      },
      "outputs": [],
      "source": [
        "# Transpose dataframe\n",
        "df.T"
      ]
    },
    {
      "cell_type": "markdown",
      "metadata": {
        "id": "jmEQPyolFiw-"
      },
      "source": [
        "## Boolean indexing"
      ]
    },
    {
      "cell_type": "code",
      "execution_count": null,
      "metadata": {
        "id": "n9JbWY2VFiw-"
      },
      "outputs": [],
      "source": [
        "# Filter dataframe based on a value condition on one column\n",
        "df[df['Sepal.Length'] > 7.5]"
      ]
    },
    {
      "cell_type": "code",
      "execution_count": null,
      "metadata": {
        "id": "9hF8e2uKFiw-"
      },
      "outputs": [],
      "source": [
        "# Filter dataframe based on multiple value condition on one column\n",
        "df[df['Species'].isin(['versicolor', 'virginica'])]"
      ]
    },
    {
      "cell_type": "code",
      "execution_count": null,
      "metadata": {
        "id": "hRqfiz5RFiw_"
      },
      "outputs": [],
      "source": [
        "# Filter based on multiple conditions on multiple columns using AND operator\n",
        "df[(df['Sepal.Length'] > 7.5) & (df['Sepal.Width'] > 3)] # AND operator"
      ]
    },
    {
      "cell_type": "code",
      "execution_count": null,
      "metadata": {
        "id": "ma_BG-TeFiw_"
      },
      "outputs": [],
      "source": [
        "#  Filter based on multiple conditions on multiple columns using OR operator\n",
        "df[(df['Sepal.Length'] > 7.5) | (df['Sepal.Width'] > 3)] # OR operator"
      ]
    },
    {
      "cell_type": "markdown",
      "metadata": {
        "id": "8y3frEY2Fiw_"
      },
      "source": [
        "# 4. Programming assignments"
      ]
    },
    {
      "cell_type": "markdown",
      "metadata": {
        "id": "bNEeZliyFixA"
      },
      "source": [
        "## App 1.\n",
        "Write a programme that will answer the following questions for a given list of integers entered by the user:\n",
        "- How many numbers are divisible by **3** but indivisible by **2**?\n",
        "- What is an arithmetic mean of these numbers?\n",
        "- How many numbers are there within a given range, that is entered by the user?"
      ]
    },
    {
      "cell_type": "code",
      "execution_count": 12,
      "metadata": {
        "colab": {
          "base_uri": "https://localhost:8080/"
        },
        "id": "muE2IZ8nFixA",
        "outputId": "b2bb636a-0aad-459b-e830-fdcec77cda18"
      },
      "outputs": [
        {
          "output_type": "stream",
          "name": "stdout",
          "text": [
            "how many integers you want to input: 4\n",
            "Enter number 1: 4\n",
            "Enter number 2: 6\n",
            "Enter number 3: 8\n",
            "Enter number 4: 9\n",
            "<class 'list'>\n",
            "[4.0, 6.0, 8.0, 9.0]\n",
            "1 numbers from the list are divisible by 3, but not divisible by 2\n",
            "The arithmetic mean of the list is: 6.75\n",
            "Please, enter a range for 3rd task\n",
            "Enter lower bound: 5\n",
            "Enter upper bound: 9\n",
            "There are 3 numbers in your list that fit in the given range\n"
          ]
        }
      ],
      "source": [
        "n = int(input(\"how many integers you want to input: \"))\n",
        "given_list = [float(input(f\"Enter number {i+1}: \")) for i in range(n)]\n",
        "print(type(given_list))\n",
        "print(given_list)\n",
        "\n",
        "#  task 1\n",
        "count1 = 0\n",
        "for elem in given_list:\n",
        "  if elem % 3 ==0 and elem % 2 != 0:\n",
        "    count1 += 1\n",
        "\n",
        "print(f\"{count1} numbers from the list are divisible by 3, but not divisible by 2\" )\n",
        "\n",
        "\n",
        "#task 2\n",
        "mean = sum(given_list) / len(given_list)\n",
        "print(f\"The arithmetic mean of the list is: {mean}\")\n",
        "\n",
        "\n",
        "#task 3\n",
        "print(\" \\n Please, enter a range for 3rd task\")\n",
        "low = float(input(\"Enter lower bound: \"))\n",
        "up = float(input(\"Enter upper bound: \"))\n",
        "count3 = 0\n",
        "for elem in given_list:\n",
        "  if elem >= low and elem <= up:\n",
        "    count3 += 1\n",
        "\n",
        "print (f\"There are {count3} numbers in your list that fit in the given range\")\n"
      ]
    },
    {
      "cell_type": "markdown",
      "metadata": {
        "id": "MTHCaSPdFixA"
      },
      "source": [
        "## App 2.\n",
        "Write a programme in which you will perform the following operations:\n",
        "- Create matrices \\\\(A\\\\) and \\\\(B\\\\) and vector \\\\(f\\\\): \\\\(A=\\begin{bmatrix}\n",
        "2 & -7\\\\5 & 4\\end{bmatrix}, B=\\begin{bmatrix}6 & 1\\\\4 & -3\\end{bmatrix}, f=\\begin{bmatrix}4 & 1\\end{bmatrix}\\\\).\n",
        "- Display the size of matrix \\\\(A\\\\) and vector \\\\(f\\\\).\n",
        "- Display the transposition of matrix \\\\(B\\\\).\n",
        "- Display the value of expression \\\\((A+B)^2+2(A-B)\\\\).\n",
        "- Create a matrix \\\\(C=[[A], [B]]\\\\) and a vector \\\\(h=[f, f]\\\\) and then display them.\n",
        "- Display the product of \\\\(Ch\\\\)."
      ]
    },
    {
      "cell_type": "code",
      "execution_count": 10,
      "metadata": {
        "id": "4nTGtLl4FixA",
        "colab": {
          "base_uri": "https://localhost:8080/"
        },
        "outputId": "3fc2aa06-3a74-4584-a895-c2d444549f66"
      },
      "outputs": [
        {
          "output_type": "stream",
          "name": "stdout",
          "text": [
            "The size of matrix A is: \n",
            " (2, 2) \n",
            "\n",
            "The size of matrix f is: \n",
            " (2,) \n",
            "\n",
            "Transposition of matrix B is \n",
            " [[ 6  4]\n",
            " [ 1 -3]] \n",
            "\n",
            "The value of expression is: \n",
            " [[  2 -70]\n",
            " [ 83 -39]] \n",
            "\n",
            "Matrix C is: \n",
            " [[ 2 -7]\n",
            " [ 5  4]\n",
            " [ 6  1]\n",
            " [ 4 -3]] \n",
            "\n",
            "Vector h is: \n",
            " [[4 1]\n",
            " [4 1]] \n",
            "\n",
            "The product of C and h is: \n",
            " [[-20  -5]\n",
            " [ 36   9]\n",
            " [ 28   7]\n",
            " [  4   1]] \n",
            "\n"
          ]
        }
      ],
      "source": [
        "A = np.array([[2, -7], [5, 4]])\n",
        "B = np.array([[6, 1], [4, -3]])\n",
        "f = np.array([4, 1])\n",
        "\n",
        "# task 1\n",
        "print(f\"The size of matrix A is: \\n {A.shape} \\n\" )\n",
        "print(f\"The size of matrix f is: \\n {f.shape} \\n\" )\n",
        "\n",
        "# task 2\n",
        "B_trans = B.T\n",
        "print(f\"Transposition of matrix B is \\n {B_trans} \\n\")\n",
        "\n",
        "# task 3\n",
        "express = (A + B) @ (A + B) + 2 * (A - B)\n",
        "print(f\"The value of expression is: \\n {express} \\n\")\n",
        "\n",
        "# task 4\n",
        "C = np.block([[A], [B]])\n",
        "h = np.block([[f], [f]])\n",
        "print(f\"Matrix C is: \\n {C} \\n\" )\n",
        "print(f\"Vector h is: \\n {h} \\n\" )\n",
        "\n",
        "# task 5\n",
        "Ch = np.dot(C, h)\n",
        "print(f\"The product of C and h is: \\n {Ch} \\n\")\n"
      ]
    },
    {
      "cell_type": "markdown",
      "metadata": {
        "id": "ZvvpTXuiFixA"
      },
      "source": [
        "## App 3.\n",
        "Write 2 functions: **number_of_elements()** and **calculate_elements()**. The first function should determine how many solutions of the square equation are there for the input factors ***a***, ***b***, ***c*** (entered by the user). The second function should calculate and display these solutions. Check the operation of the programme for the following input data (***a***, ***b***, ***c***): (2, 3, 2), (2, 4, 2), (2, 5, 2).\n",
        "\n",
        "Hint:\n",
        "\\\\(x_1 = {-b-\\sqrt{\\Delta} \\over {2a}}, x_2 = {-b+\\sqrt{\\Delta} \\over {2a}}, x_{12} = {-b \\over {2a}}, \\Delta = b^2-4ac.\\\\)"
      ]
    },
    {
      "cell_type": "code",
      "execution_count": 1,
      "metadata": {
        "colab": {
          "base_uri": "https://localhost:8080/"
        },
        "id": "rwNiJAXoFixA",
        "outputId": "f06cb908-254d-40df-cb84-871df5a9560e"
      },
      "outputs": [
        {
          "output_type": "stream",
          "name": "stdout",
          "text": [
            "Enter a: 2\n",
            "Enter b: 4\n",
            "Enter c: 2\n",
            "-1.0 -1.0\n"
          ]
        }
      ],
      "source": [
        "def number_of_elements(a,b,c):\n",
        "  delta = b**2 - 4*a*c\n",
        "  if delta > 0:\n",
        "    return 2\n",
        "  elif delta == 0:\n",
        "    return 1\n",
        "  else:\n",
        "    return 0\n",
        "\n",
        "\n",
        "def calculate_elements(a,b,c):\n",
        "  delta = b**2 - 4*a*c\n",
        "  number_of_solutions = number_of_elements(a,b,c)\n",
        "  if number_of_solutions == 2:\n",
        "    x1 = (-b - delta**0.5) / (2*a)\n",
        "    x2 = (-b + delta**0.5) / (2*a)\n",
        "  elif number_of_solutions == 1:\n",
        "    x1 = x2 = -b / (2*a)\n",
        "  else:\n",
        "    real = -b / (2*a)\n",
        "    imag = (abs(delta)**0.5) / (2*a)\n",
        "    x1 = complex(real, imag)\n",
        "    x2 = complex(real, -imag)\n",
        "  return x1, x2\n",
        "\n",
        "a = float(input(\"Enter a: \"))\n",
        "b = float(input(\"Enter b: \"))\n",
        "c = float(input(\"Enter c: \"))\n",
        "\n",
        "x1, x2 = calculate_elements(a,b,c)\n",
        "\n",
        "print (x1, x2)"
      ]
    },
    {
      "cell_type": "markdown",
      "metadata": {
        "id": "mGDGSQTpFixB"
      },
      "source": [
        "## App 4.\n",
        "Write a programme that will plot charts of the functions: \\\\(y_1 = sin(t)\\\\) and \\\\(y_2 = 2cos(3t+1)\\\\) within \\\\(t=-\\pi:0.01:\\pi\\\\) in the same coordinate system. Each chart should be drawn with a different line colour, the axes should have descriptions and a legend should appear on a suitably graduated drawing."
      ]
    },
    {
      "cell_type": "code",
      "execution_count": 3,
      "metadata": {
        "id": "kf6afZX0FixB",
        "colab": {
          "base_uri": "https://localhost:8080/",
          "height": 449
        },
        "outputId": "01d01d9d-21a2-43d5-b19c-040ec3769dad"
      },
      "outputs": [
        {
          "output_type": "display_data",
          "data": {
            "text/plain": [
              "<Figure size 640x480 with 1 Axes>"
            ],
            "image/png": "[encoded data removed]"
          },
          "metadata": {}
        }
      ],
      "source": [
        "import numpy as np\n",
        "import matplotlib.pyplot as plt\n",
        "\n",
        "t = np.arange(-np.pi, np.pi, 0.01)\n",
        "\n",
        "y1 = np.sin(t)\n",
        "y2 = 2 * np.cos(3*t + 1)\n",
        "\n",
        "plt.plot(t, y1, label = 'y1 = sin(t)', color = 'b')\n",
        "plt.plot(t, y2, label = 'y2 = 2cos(3t+1)', color = 'r')\n",
        "\n",
        "plt.xlabel('t (radians)')\n",
        "plt.ylabel('y')\n",
        "\n",
        "plt.legend()\n",
        "plt.grid(True)\n",
        "plt.show()\n"
      ]
    },
    {
      "cell_type": "markdown",
      "metadata": {
        "id": "p5MAnxYPFixC"
      },
      "source": [
        "## App 5.\n",
        "Write a programme that will display a multiplication table. Use the nested **for** loop."
      ]
    },
    {
      "cell_type": "code",
      "execution_count": 11,
      "metadata": {
        "id": "5KyE3b-rFixC",
        "colab": {
          "base_uri": "https://localhost:8080/"
        },
        "outputId": "2d6a3d9e-b8f0-493e-8a2c-46680a5087ba"
      },
      "outputs": [
        {
          "output_type": "stream",
          "name": "stdout",
          "text": [
            "   1    2    3    4    5    6    7    8    9   10 \n",
            "   2    4    6    8   10   12   14   16   18   20 \n",
            "   3    6    9   12   15   18   21   24   27   30 \n",
            "   4    8   12   16   20   24   28   32   36   40 \n",
            "   5   10   15   20   25   30   35   40   45   50 \n",
            "   6   12   18   24   30   36   42   48   54   60 \n",
            "   7   14   21   28   35   42   49   56   63   70 \n",
            "   8   16   24   32   40   48   56   64   72   80 \n",
            "   9   18   27   36   45   54   63   72   81   90 \n",
            "  10   20   30   40   50   60   70   80   90  100 \n"
          ]
        }
      ],
      "source": [
        "for i in range(1, 11):\n",
        "  for j in range(1, 11):\n",
        "    print(f\"{i * j:4}\", end = \" \")\n",
        "  print()"
      ]
    }
  ],
  "metadata": {
    "anaconda-cloud": {},
    "kernelspec": {
      "display_name": "Python 3 (ipykernel)",
      "language": "python",
      "name": "python3"
    },
    "language_info": {
      "codemirror_mode": {
        "name": "ipython",
        "version": 3
      },
      "file_extension": ".py",
      "mimetype": "text/x-python",
      "name": "python",
      "nbconvert_exporter": "python",
      "pygments_lexer": "ipython3",
      "version": "3.11.7"
    },
    "colab": {
      "provenance": []
    }
  },
  "nbformat": 4,
  "nbformat_minor": 0
}

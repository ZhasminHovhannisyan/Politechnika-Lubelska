{
 "cells": [
  {
   "cell_type": "markdown",
   "metadata": {
    "id": "NJi9ybkUs_-j"
   },
   "source": [
    "# 1. Introduction\n",
    "## Python identifier\n",
    "Identifier is a name given to entities like class, functions, variables etc. in Python. It helps differentiating one entity from another.\n",
    "\n",
    "Rules for writing identifiers in Python:\n",
    "- Identifiers can be a combination of letters in lowercase (**a** to **z**) or uppercase (**A** to **Z**) or digits (**0** to **9**) or an underscore (**_**).\n",
    "- An identifier can not start with a digit.\n",
    "- Keywords can not be used as identifiers.\n",
    "- We can not use special symbols like **!**, **@**, **#**, **$**, **%** etc. in our identifier."
   ]
  },
  {
   "cell_type": "code",
   "execution_count": null,
   "metadata": {
    "id": "KRbARO1js_-o"
   },
   "outputs": [],
   "source": [
    "# Variable name can not start with digit in front, 1variable will cause syntax error\n",
    "1variable = 'Identifier can not start with number'"
   ]
  },
  {
   "cell_type": "code",
   "execution_count": null,
   "metadata": {
    "id": "gAGAf70Js_-p"
   },
   "outputs": [],
   "source": [
    "# Using keywords as variable name will cause error\n",
    "class = 1"
   ]
  },
  {
   "cell_type": "code",
   "execution_count": null,
   "metadata": {
    "id": "7B6rNHe0s_-p"
   },
   "outputs": [],
   "source": [
    "# Using special symbols as variable name will cause error\n",
    "x@gmail = 'm.s@gmail.com'"
   ]
  },
  {
   "cell_type": "markdown",
   "metadata": {
    "id": "5L7dwfJps_-q"
   },
   "source": [
    "## Basic Object Types"
   ]
  },
  {
   "cell_type": "code",
   "execution_count": null,
   "metadata": {
    "id": "UFEzx694s_-q",
    "colab": {
     "base_uri": "https://localhost:8080/"
    },
    "outputId": "99598d64-5bfb-4f47-fb8b-3944e721a71b"
   },
   "outputs": [
    {
     "output_type": "stream",
     "name": "stdout",
     "text": [
      "<class 'NoneType'> None\n",
      "<class 'bool'> True\n",
      "<class 'int'> 1\n",
      "<class 'float'> 3.14\n",
      "<class 'float'> 3.14\n",
      "<class 'float'> inf\n",
      "<class 'float'> nan\n",
      "<class 'complex'> (2+8j)\n",
      "<class 'str'> this is a string\n",
      "<class 'str'> also me\n",
      "<class 'tuple'> (1, True, 'ML')\n",
      "<class 'list'> [1, True, 'ML']\n",
      "<class 'set'> {1, 2, 3, 4, 5}\n",
      "<class 'dict'> {'a': 'A', 2: 'AA', True: 1, False: 0}\n"
     ]
    }
   ],
   "source": [
    "none = None # Singleton null object\n",
    "boolean = bool(True)\n",
    "integer = 1\n",
    "Long = 3.14\n",
    "\n",
    "# float\n",
    "Float = 3.14\n",
    "Float_inf = float('inf')\n",
    "Float_nan = float('nan')\n",
    "\n",
    "# Complex object type, note the usage of letter j\n",
    "Complex = 2 + 8j\n",
    "\n",
    "# String can be enclosed in single or double quote\n",
    "string = 'this is a string'\n",
    "me_also_string = \"also me\"\n",
    "\n",
    "List = [1, True, 'ML'] # Values can be changed\n",
    "Tuple = (1, True, 'ML') # Values can not be changed\n",
    "Set = set([1, 2, 2, 2, 3, 4, 5, 5]) # Duplicates will not be stored\n",
    "# Use a dictionary when you have a set of unique keys that map to values\n",
    "Dictionary = {'a':'A', 2:'AA', True:1, False:0}\n",
    "\n",
    "# Let's print the object type and the value\n",
    "print(type(none), none)\n",
    "print(type(boolean), boolean)\n",
    "print(type(integer), integer)\n",
    "print(type(Long), Long)\n",
    "\n",
    "print(type(Float), Float)\n",
    "print(type(Float_inf), Float_inf)\n",
    "print(type(Float_nan), Float_nan)\n",
    "\n",
    "print(type(Complex), Complex)\n",
    "\n",
    "print(type(string), string)\n",
    "print(type(me_also_string), me_also_string)\n",
    "\n",
    "print(type(Tuple), Tuple)\n",
    "print(type(List), List)\n",
    "print(type(Set), Set)\n",
    "print(type(Dictionary), Dictionary)"
   ]
  },
  {
   "cell_type": "markdown",
   "metadata": {
    "id": "n2WdNL9ks_-r"
   },
   "source": [
    "## Comments in Python\n",
    "- All characters after the **#** and up to the physical line end are part of the comment and the Python interpreter ignores them.\n",
    "- Comments spanning more than one line are achieved by inserting a multi-line string between the **\"\"\"** delimiters."
   ]
  },
  {
   "cell_type": "code",
   "execution_count": null,
   "metadata": {
    "id": "gshxF5pbs_-r"
   },
   "outputs": [],
   "source": [
    "# This is a comment in Python\n",
    "print('Hello Python World') # This is also a comment in Python\n",
    "\n",
    "'''This is an example of a multi line comment that spans multiple lines.\n",
    "Everything that is in between is considered as comments.'''"
   ]
  },
  {
   "cell_type": "markdown",
   "metadata": {
    "id": "RV7d7qW-s_-r"
   },
   "source": [
    "## Several statements in a one line"
   ]
  },
  {
   "cell_type": "code",
   "execution_count": null,
   "metadata": {
    "id": "LLARAjl3s_-r"
   },
   "outputs": [],
   "source": [
    "import sys; x = 'foo'; print(x)"
   ]
  },
  {
   "cell_type": "markdown",
   "metadata": {
    "id": "SmtXyengs_-s"
   },
   "source": [
    "## Code blocks"
   ]
  },
  {
   "cell_type": "code",
   "execution_count": null,
   "metadata": {
    "id": "WFVDqKgis_-s",
    "colab": {
     "base_uri": "https://localhost:8080/"
    },
    "outputId": "46f27f45-ce92-47de-80e3-c3238546d4e4"
   },
   "outputs": [
    {
     "output_type": "stream",
     "name": "stdout",
     "text": [
      "Programming is an important skill for Data Science\n",
      "Statistics is an imporant skill for Data Science\n",
      "Business domain knowledge is a important skill for Data Science\n",
      "x has a value of 1\n"
     ]
    }
   ],
   "source": [
    "# Correct indentation\n",
    "print ('Programming is an important skill for Data Science')\n",
    "print ('Statistics is an imporant skill for Data Science')\n",
    "print ('Business domain knowledge is a important skill for Data Science')\n",
    "\n",
    "# Correct indentation, note that if statement here is an example of suites\n",
    "x = 1\n",
    "if x == 1:\n",
    "    print ('x has a value of 1')\n",
    "else:\n",
    "    print ('x does NOT have a value of 1')"
   ]
  },
  {
   "cell_type": "code",
   "execution_count": null,
   "metadata": {
    "id": "Vpq9PkESs_-s"
   },
   "outputs": [],
   "source": [
    "# Incorrect indentation, program will generate a syntax error\n",
    "# due to the space character inserted at the beginning of second line\n",
    "print ('Programming is an important skill for Data Science')\n",
    " print ('Statistics is an important skill for Data Science')\n",
    "print ('Business domain knowledge is a important skill for Data Science')"
   ]
  },
  {
   "cell_type": "code",
   "execution_count": null,
   "metadata": {
    "id": "PHGiKp4ks_-s"
   },
   "outputs": [],
   "source": [
    "# Incorrect indentation, program will generate a syntax error\n",
    "# due to the wrong indentation in the else statement\n",
    "x = 1\n",
    "if x == 1:\n",
    "    print ('x has a value of 1')\n",
    "else:\n",
    "print ('x does NOT have a value of 1')"
   ]
  },
  {
   "cell_type": "markdown",
   "metadata": {
    "id": "sGXMSfzZs_-t"
   },
   "source": [
    "## Multi-line statements"
   ]
  },
  {
   "cell_type": "code",
   "execution_count": null,
   "metadata": {
    "id": "vv0vvEx4s_-t",
    "colab": {
     "base_uri": "https://localhost:8080/"
    },
    "outputId": "2df8eb99-9517-4860-c7b4-87899598bb7d"
   },
   "outputs": [
    {
     "output_type": "stream",
     "name": "stdout",
     "text": [
      "x has a value of 1234\n",
      "y has a value of 121112\n",
      "['Monday', 'Tuesday', 'Wednesday', 'Thursday', 'Friday']\n",
      "{'Sunday', 'Saturday'}\n"
     ]
    }
   ],
   "source": [
    "# Example of implicit line continuation\n",
    "x = ('1' + '2' +\n",
    "    '3' + '4')\n",
    "\n",
    "# Example of explicit line continuation\n",
    "y = '1' + '2' + \\\n",
    "    '11' + '12'\n",
    "\n",
    "weekdays = ['Monday', 'Tuesday', 'Wednesday',\n",
    "            'Thursday', 'Friday']\n",
    "\n",
    "weekend = {'Saturday',\n",
    "           'Sunday'}\n",
    "\n",
    "print ('x has a value of', x)\n",
    "print ('y has a value of', y)\n",
    "print (weekdays)\n",
    "print (weekend)"
   ]
  },
  {
   "cell_type": "markdown",
   "metadata": {
    "id": "5UmpR1ISs_-t"
   },
   "source": [
    "# 2. Basic operators\n",
    "## Arithmetic operators\n",
    "Arithmetic operators are used to perform mathematical operations like addition, subtraction, multiplication etc."
   ]
  },
  {
   "cell_type": "code",
   "execution_count": null,
   "metadata": {
    "id": "3BDOqI7Ys_-t",
    "colab": {
     "base_uri": "https://localhost:8080/"
    },
    "outputId": "08ed3ce2-0e8f-4e5e-a02c-5d2e7744cfcf"
   },
   "outputs": [
    {
     "output_type": "stream",
     "name": "stdout",
     "text": [
      "Addition, x(10) + y(5) =  15\n",
      "Subtraction, x(10) - y(5) =  5\n",
      "Multiplication, x(10) * y(5) =  50\n",
      "Division, x(10) / y(5) =  2.0\n",
      "Modulus, x(10) % y(5) =  0\n",
      "Exponent, x(10)**y(5) =  100000\n",
      "Floor Division, x(10)//y(5) =  2\n"
     ]
    }
   ],
   "source": [
    "# Variable x holds 10 and variable y holds 5\n",
    "x = 10\n",
    "y = 5\n",
    "\n",
    "# Addition\n",
    "print ('Addition, x(10) + y(5) = ', x + y)\n",
    "\n",
    "# Subtraction\n",
    "print ('Subtraction, x(10) - y(5) = ', x - y)\n",
    "\n",
    "# Multiplication\n",
    "print ('Multiplication, x(10) * y(5) = ', x * y)\n",
    "\n",
    "# Division\n",
    "print ('Division, x(10) / y(5) = ', x / y)\n",
    "\n",
    "# Modulus\n",
    "print ('Modulus, x(10) % y(5) = ', x % y)\n",
    "\n",
    "# Exponent\n",
    "print ('Exponent, x(10)**y(5) = ', x**y)\n",
    "\n",
    "# Integer division rounded towards minus infinity\n",
    "print ('Floor Division, x(10)//y(5) = ', x//y)"
   ]
  },
  {
   "cell_type": "markdown",
   "metadata": {
    "id": "YVDAiXDts_-u"
   },
   "source": [
    "## Comparison operators\n",
    "Comparison operators are used to compare values. It either returns **True** or **False** according to the condition."
   ]
  },
  {
   "cell_type": "code",
   "execution_count": null,
   "metadata": {
    "id": "6NsMPthhs_-u",
    "colab": {
     "base_uri": "https://localhost:8080/"
    },
    "outputId": "b281bcec-e274-454b-bb38-33ef319e6acc"
   },
   "outputs": [
    {
     "output_type": "stream",
     "name": "stdout",
     "text": [
      "Equal check, x(10) == y(5)  False\n",
      "Not Equal check, x(10) != y(5)  True\n",
      "Less than check, x(10) < y(5)  False\n",
      "Greater than check, x(10) > y(5)  True\n",
      "Less than or equal to check, x(10) <= y(5)  False\n",
      "Greater than or equal to check, x(10) >= y(5)  True\n"
     ]
    }
   ],
   "source": [
    "# Variable x holds 10 and variable b holds 5\n",
    "# Equal check operation\n",
    "print ('Equal check, x(10) == y(5) ', x == y)\n",
    "\n",
    "# Not Equal check operation\n",
    "print ('Not Equal check, x(10) != y(5) ', x != y)\n",
    "\n",
    "# Less than check operation\n",
    "print ('Less than check, x(10) < y(5) ', x < y)\n",
    "\n",
    "# Greater check operation\n",
    "print ('Greater than check, x(10) > y(5) ', x > y)\n",
    "\n",
    "# Less than or equal check operation\n",
    "print ('Less than or equal to check, x(10) <= y(5) ', x <= y)\n",
    "\n",
    "# Greater than or equal to check operation\n",
    "print ('Greater than or equal to check, x(10) >= y(5) ', x >= y)"
   ]
  },
  {
   "cell_type": "markdown",
   "metadata": {
    "id": "jO2Me7lts_-u"
   },
   "source": [
    "## Assignment operations"
   ]
  },
  {
   "cell_type": "code",
   "execution_count": null,
   "metadata": {
    "id": "sXfEKK2Qs_-u",
    "colab": {
     "base_uri": "https://localhost:8080/"
    },
    "outputId": "038f66c2-d819-447e-ea25-07dae7b8d449"
   },
   "outputs": [
    {
     "output_type": "stream",
     "name": "stdout",
     "text": [
      "Value of a post x += y is  15\n",
      "Value of a post x *= y is  150\n",
      "Value of a post x /= y is  15.0\n",
      "Value of a post x %= y is  5.0\n",
      "Value of x post x **= y is  9765625.0\n",
      "Value of a post x //= y is  976562.0\n"
     ]
    }
   ],
   "source": [
    "# Variable x holds 10 and variable y holds 5\n",
    "x = 5\n",
    "y = 10\n",
    "\n",
    "x += y\n",
    "print ('Value of a post x += y is ', x)\n",
    "\n",
    "x *= y\n",
    "print ('Value of a post x *= y is ', x)\n",
    "\n",
    "x /= y\n",
    "print ('Value of a post x /= y is ', x)\n",
    "\n",
    "x %= y\n",
    "print ('Value of a post x %= y is ', x)\n",
    "\n",
    "x **= y\n",
    "print ('Value of x post x **= y is ', x)\n",
    "\n",
    "x //= y\n",
    "print ('Value of a post x //= y is ', x)"
   ]
  },
  {
   "cell_type": "markdown",
   "metadata": {
    "id": "IGLq24_Ws_-u"
   },
   "source": [
    "## Bitwise operations\n",
    "Bitwise operators act on operands as if they were string of binary digits. As the name suggest, it operates bit by bit."
   ]
  },
  {
   "cell_type": "code",
   "execution_count": null,
   "metadata": {
    "id": "Tp4UtMnPs_-u"
   },
   "outputs": [],
   "source": [
    "# Basic six bitwise operations\n",
    "# Let x = 10 (0000 1010 in binary) and y = 4 (0000 0100 in binary)\n",
    "x = 10\n",
    "y = 4\n",
    "\n",
    "print (x >> y)  # Right Shift\n",
    "print (x << y)  # Left Shift\n",
    "print (x & y)   # Bitwise AND\n",
    "print (x | y)   # Bitwise OR\n",
    "print (x ^ y) # Bitwise XOR\n",
    "print (~x)    # Bitwise NOT"
   ]
  },
  {
   "cell_type": "markdown",
   "metadata": {
    "id": "NV6B4OP3s_-u"
   },
   "source": [
    "## Logical operators\n",
    "Logical operators are the **and**, **or**, **not** operators."
   ]
  },
  {
   "cell_type": "code",
   "execution_count": null,
   "metadata": {
    "id": "VIti7Ud4s_-v"
   },
   "outputs": [],
   "source": [
    "var1 = True\n",
    "var2 = False\n",
    "print('var1 and var2 is', var1 and var2)\n",
    "print('var1 or var2 is', var1 or var2)\n",
    "print('not var1 is', not var1)"
   ]
  },
  {
   "cell_type": "markdown",
   "metadata": {
    "id": "5mdWuY0Es_-v"
   },
   "source": [
    "## Membership operators\n",
    "**in** and **not in** are the membership operators in Python. They are used to test whether a value or variable is found in a sequence (string, list, tuple, set and dictionary). In a dictionary we can only test for presence of key, not the value."
   ]
  },
  {
   "cell_type": "code",
   "execution_count": null,
   "metadata": {
    "id": "EsvZi41fs_-v"
   },
   "outputs": [],
   "source": [
    "var1 = 'Hello world'    # String\n",
    "var2 = {1:'a', 2:'b'}    # Dictionary\n",
    "print('H' in var1)\n",
    "print('hello' not in var1)\n",
    "print(1 in var2)\n",
    "print('a' in var2)"
   ]
  },
  {
   "cell_type": "markdown",
   "metadata": {
    "id": "-tyBZNnVs_-v"
   },
   "source": [
    "## Identity operatros\n",
    "**is** and **is not** are the identity operators in Python. They are used to check whether two values (or variables) are located on the same part of the memory. Two variables that are equal do not imply that they are identical."
   ]
  },
  {
   "cell_type": "code",
   "execution_count": null,
   "metadata": {
    "id": "KqLrL1RYs_-v"
   },
   "outputs": [],
   "source": [
    "var1 = 5\n",
    "var1 = 5\n",
    "var2 = 'Hello'\n",
    "var2 = 'Hello'\n",
    "var3 = [1, 2, 3]\n",
    "var3 = [1, 2, 3]\n",
    "print(var1 is not var1)\n",
    "print(var2 is var2)\n",
    "print(var3 is var3)"
   ]
  },
  {
   "cell_type": "markdown",
   "metadata": {
    "id": "s52FYIfis_-v"
   },
   "source": [
    "# 3. Control structures\n",
    "A control structure is a basic decision-making process in computing. It is a block of programming that analyzes variables and chooses a direction in which to go based on given parameters."
   ]
  },
  {
   "cell_type": "code",
   "execution_count": null,
   "metadata": {
    "id": "U9gyqONts_-v"
   },
   "outputs": [],
   "source": [
    "var = -1\n",
    "if var < 0:\n",
    "    print (var)\n",
    "    print ('the value of var is negative')\n",
    "\n",
    "# If the suite of an if clause consists only of a single line, it may go on the same line as the header statement\n",
    "if ( var  == -1 ) : print ('the value of var is negative')"
   ]
  },
  {
   "cell_type": "code",
   "execution_count": null,
   "metadata": {
    "id": "WfrIpla7s_-v"
   },
   "outputs": [],
   "source": [
    "var = 1\n",
    "\n",
    "if var < 0:\n",
    "    print ('the value of var is negative')\n",
    "    print (var)\n",
    "else:\n",
    "    print ('the value of var is positive')\n",
    "    print (var)"
   ]
  },
  {
   "cell_type": "code",
   "execution_count": null,
   "metadata": {
    "id": "Uvfa_NX_s_-w"
   },
   "outputs": [],
   "source": [
    "score = 95\n",
    "\n",
    "if score >= 99:\n",
    "    print('A')\n",
    "elif score >= 75:\n",
    "    print('B')\n",
    "elif score >= 60:\n",
    "    print('C')\n",
    "elif score >= 35:\n",
    "    print('D')\n",
    "else:\n",
    "    print('F')"
   ]
  },
  {
   "cell_type": "code",
   "execution_count": null,
   "metadata": {
    "id": "nh5KPqnWs_-w"
   },
   "outputs": [],
   "source": [
    "# First Example\n",
    "print ('First Example')\n",
    "for item in [1, 2, 3, 4, 5]:\n",
    "    print ('item :', item)\n",
    "\n",
    "# Second Example\n",
    "print ('\\nSecond Example')\n",
    "letters = ['A', 'B', 'C']\n",
    "for letter in letters:\n",
    "    print ('First loop letter :', letter)\n",
    "\n",
    "# Third Example - iterating by sequency index\n",
    "print ('\\nThird Example')\n",
    "for index in range(len(letters)):\n",
    "    print ('First loop letter :', letters[index])\n",
    "\n",
    "# Fourth Example - using else statement\n",
    "print ('\\nFourth Example')\n",
    "for item in [1, 2, 3, 4, 5]:\n",
    "    print ('item :', item)\n",
    "else:\n",
    "    print ('looping over item complete!')"
   ]
  },
  {
   "cell_type": "code",
   "execution_count": null,
   "metadata": {
    "id": "KfFWfUIps_-w"
   },
   "outputs": [],
   "source": [
    "count = 0\n",
    "while (count < 5):\n",
    "    print ('The count is:', count)\n",
    "    count = count + 1"
   ]
  },
  {
   "cell_type": "markdown",
   "metadata": {
    "id": "gAdAJtBgs_-w"
   },
   "source": [
    "# 4. Modules\n",
    "A module is a logically organized multiple independent but related set of codes or functions or classes. The key principle behind module creating is it's easier to understand, use and efficient maintainability.\n",
    "\n",
    "When you import a module, it's loaded only once, regardless of the number of times it is imported. You can also import specific elements (functions, classes etc) from your module into the current namespace."
   ]
  },
  {
   "cell_type": "code",
   "execution_count": null,
   "metadata": {
    "id": "-hflLBCDs_-w"
   },
   "outputs": [],
   "source": [
    "# Import all functions from a module\n",
    "import os             # Method 1\n",
    "from os import *      # Method 2"
   ]
  },
  {
   "cell_type": "code",
   "execution_count": null,
   "metadata": {
    "id": "DCsd7bnEs_-w"
   },
   "outputs": [],
   "source": [
    "# Import a function named abc from the module os\n",
    "from os import abc"
   ]
  },
  {
   "cell_type": "markdown",
   "metadata": {
    "id": "4tvagnqJs_-0"
   },
   "source": [
    "**dir()** is a built-in function of module **os**, running this will return a sorted list of strings containing the names of all the modules, variables and functions that are defined in a module."
   ]
  },
  {
   "cell_type": "code",
   "execution_count": null,
   "metadata": {
    "id": "PTn3gdqUs_-0"
   },
   "outputs": [],
   "source": [
    "import os\n",
    "\n",
    "content = dir(os)\n",
    "print (content)"
   ]
  },
  {
   "cell_type": "markdown",
   "metadata": {
    "id": "ZyZlxrOKs_-0"
   },
   "source": [
    "# 5. Lists\n",
    "The **list** is a most versatile data type available in Python which can be written as a list of comma-separated values (items) between square brackets. Important thing about a list is that items in a list need not be of the same type."
   ]
  },
  {
   "cell_type": "markdown",
   "metadata": {
    "id": "mJFDDvAfs_-0"
   },
   "source": [
    "## Accessing lists"
   ]
  },
  {
   "cell_type": "code",
   "execution_count": null,
   "metadata": {
    "id": "R7_IFN08s_-1"
   },
   "outputs": [],
   "source": [
    "list_1 = ['Statistics', 'Programming', 2018, 2019, 2020]\n",
    "list_2 = ['a', 'b', 1, 2, 3, 4, 5, 6, 7 ]\n",
    "\n",
    "# Accessing values in lists\n",
    "print ('list_1[0]:', list_1[0])\n",
    "print ('list2_[1:5]:', list_2[1:5])"
   ]
  },
  {
   "cell_type": "markdown",
   "metadata": {
    "id": "UBBcNbc1s_-1"
   },
   "source": [
    "## Adding new value to list"
   ]
  },
  {
   "cell_type": "code",
   "execution_count": null,
   "metadata": {
    "id": "_owSSxsus_-1"
   },
   "outputs": [],
   "source": [
    "# Adding new value to list\n",
    "print ('list_1 values:', list_1)\n",
    "list_1.append(2021)\n",
    "print ('list_1 values post append:', list_1)"
   ]
  },
  {
   "cell_type": "markdown",
   "metadata": {
    "id": "29FUz3Mas_-1"
   },
   "source": [
    "## Deleting list elements"
   ]
  },
  {
   "cell_type": "code",
   "execution_count": null,
   "metadata": {
    "id": "mPxuDJ5ss_-1"
   },
   "outputs": [],
   "source": [
    "# Deleting list elements\n",
    "print ('list_1 values:', list_1)\n",
    "del list_1[2];\n",
    "print ('After deleting value at index 2 :', list_1)"
   ]
  },
  {
   "cell_type": "markdown",
   "metadata": {
    "id": "s9-C9I7cs_-1"
   },
   "source": [
    "# Basic operations on lists"
   ]
  },
  {
   "cell_type": "code",
   "execution_count": null,
   "metadata": {
    "id": "D_f0ijIDs_-1"
   },
   "outputs": [],
   "source": [
    "# Basic operations\n",
    "print ('Length:', len(list_1))\n",
    "print ('Concatenation:', [1, 2, 3] + [4, 5, 6])\n",
    "print ('Repetition:', ['Hello'] * 4)\n",
    "print ('Membership:', 3 in [1, 2, 3])\n",
    "print ('Iteration:')\n",
    "for x in [1, 2, 3]: print (x)"
   ]
  },
  {
   "cell_type": "code",
   "execution_count": null,
   "metadata": {
    "id": "IZ8VQuxKs_-1"
   },
   "outputs": [],
   "source": [
    "# Negative sign will count from the right\n",
    "print ('slicing:', list_1[-2])\n",
    "# If you don't specify the end explicitly, all elements from the specified start index will be printed\n",
    "print ('slicing range:', list_1[1:])"
   ]
  },
  {
   "cell_type": "code",
   "execution_count": null,
   "metadata": {
    "id": "_2rXjG3Os_-2"
   },
   "outputs": [],
   "source": [
    "# Comparing elements of lists\n",
    "def cmp(a, b):\n",
    "    return (a > b) - (a < b)\n",
    "\n",
    "print ('Compare two lists:', cmp([1, 2, 3, 4], [1, 2, 3]))\n",
    "print ('Max of list:', max([1, 2, 3, 4, 5]))\n",
    "print ('Min of list:', min([1, 2, 3, 4, 5]))\n",
    "print ('Count number of 1 in list:', [1, 1, 2, 3, 4, 5].count(1))\n",
    "list_1.extend(list_2)\n",
    "print ('Extended:', list_1)"
   ]
  },
  {
   "cell_type": "code",
   "execution_count": null,
   "metadata": {
    "id": "qnOKVvqws_-2"
   },
   "outputs": [],
   "source": [
    "print ('Index for Programming:', list_1.index('Programming'))\n",
    "print (list_1)\n",
    "print ('pop last item in list:', list_1.pop())\n",
    "print ('pop the item with index 2:', list_1.pop(2))\n",
    "list_1.remove('b')\n",
    "print ('removed b from list:', list_1)\n",
    "list_1.reverse()\n",
    "print ('Reverse:', list_1)"
   ]
  },
  {
   "cell_type": "code",
   "execution_count": null,
   "metadata": {
    "id": "PY21RuYxs_-2"
   },
   "outputs": [],
   "source": [
    "list_1 = ['a', 'b', 'c']\n",
    "list_1.sort()\n",
    "print ('Sort ascending:', list_1)\n",
    "list_1.sort(reverse = True)\n",
    "print ('Sort descending:', list_1)"
   ]
  },
  {
   "cell_type": "markdown",
   "metadata": {
    "id": "zF0laDfcs_-2"
   },
   "source": [
    "# 6. Tuples\n",
    "A **tuple** is a sequence of immutable Python objects. Tuples are sequences, just like lists. The differences between tuples and lists are, the tuples cannot be changed unlike lists and tuples use parentheses, whereas lists use square brackets."
   ]
  },
  {
   "cell_type": "code",
   "execution_count": null,
   "metadata": {
    "id": "mgAKol8ls_-2"
   },
   "outputs": [],
   "source": [
    "# Creating a tuple\n",
    "\n",
    "Tuple = ()\n",
    "print ('Empty Tuple:', Tuple)\n",
    "\n",
    "Tuple = (1)\n",
    "print ('Tuple with a single item:', Tuple)\n",
    "\n",
    "Tuple = ('a', 'b', 'c', 'd', 1, 2, 3)\n",
    "print ('Sample Tuple:', Tuple)"
   ]
  },
  {
   "cell_type": "code",
   "execution_count": null,
   "metadata": {
    "id": "5ACTsb24s_-2"
   },
   "outputs": [],
   "source": [
    "# Accessing items in tuple\n",
    "\n",
    "print ('3rd item of Tuple:', Tuple[2])\n",
    "print ('First 3 items of Tuple:', Tuple[0:3])"
   ]
  },
  {
   "cell_type": "code",
   "execution_count": null,
   "metadata": {
    "id": "1szmkpBns_-3"
   },
   "outputs": [],
   "source": [
    "# Deleting tuple\n",
    "\n",
    "Tuple = ('a', 'b', 'c', 'd', 1, 2, 3)\n",
    "print ('Sample Tuple:', Tuple)\n",
    "del Tuple\n",
    "print (Tuple) # Will throw an error message as the tuple does not exist"
   ]
  },
  {
   "cell_type": "code",
   "execution_count": null,
   "metadata": {
    "id": "kpdmIgIfs_-3"
   },
   "outputs": [],
   "source": [
    "# Basic Tuple operations\n",
    "Tuple = ('a', 'b', 'c', 'd', 1, 2, 3)\n",
    "\n",
    "print ('Length of Tuple:', len(Tuple))\n",
    "\n",
    "Tuple_Concat = Tuple + (7, 8, 9)\n",
    "print ('Concatinated Tuple:', Tuple_Concat)\n",
    "\n",
    "print ('Repetition:', (1, 'a', 2, 'b') * 3)\n",
    "print ('Membership check:', 3 in (1, 2, 3))\n",
    "\n",
    "# Iteration\n",
    "for x in (1, 2, 3): print (x)\n",
    "\n",
    "print ('Negative sign will retrieve item from right:', Tuple_Concat[-2])\n",
    "print ('Sliced Tuple [2:]', Tuple_Concat[2:])\n",
    "\n",
    "# Find max\n",
    "print ('Max of the Tuple (1, 2, 3, 4, 5, 6, 7, 8, 9, 10):', max((1, 2, 3, 4, 5, 6, 7, 8, 9, 10)))\n",
    "print ('Min of the Tuple (1, 2, 3, 4, 5, 6, 7, 8, 9, 10):', min((1, 2, 3, 4, 5, 6, 7, 8, 9, 10)))\n",
    "print ('List [1, 2, 3, 4] converted to tuple:', type(tuple([1, 2, 3, 4])))"
   ]
  },
  {
   "cell_type": "markdown",
   "metadata": {
    "id": "h6-4Vvo_s_-3"
   },
   "source": [
    "# 7. Sets\n",
    "A **set** contains an unordered collection of unique and immutable objects. The set data type is, as the name implies, a Python implementation of the sets as they are known from mathematics. This explains, why sets unlike lists or tuples can't have multiple occurrences of the same element."
   ]
  },
  {
   "cell_type": "markdown",
   "metadata": {
    "id": "1xwfBxKQs_-3"
   },
   "source": [
    "## Creating sets"
   ]
  },
  {
   "cell_type": "code",
   "execution_count": null,
   "metadata": {
    "id": "gP1g8umKs_-3"
   },
   "outputs": [],
   "source": [
    "# Creating an empty set\n",
    "languages = set()\n",
    "print (languages)\n",
    "\n",
    "languages = {'Python', 'R', 'SAS', 'Julia'}\n",
    "print (languages)\n",
    "\n",
    "# Set of mixed datatypes\n",
    "mixed_set = {'Python', (2.7, 3.4)}\n",
    "print (mixed_set)"
   ]
  },
  {
   "cell_type": "markdown",
   "metadata": {
    "id": "fQsEHMyIs_-3"
   },
   "source": [
    "## Accessing set elements"
   ]
  },
  {
   "cell_type": "code",
   "execution_count": null,
   "metadata": {
    "id": "z7HyDl_js_-3"
   },
   "outputs": [],
   "source": [
    "print (list(languages)[0])\n",
    "print (list(languages)[0:3])"
   ]
  },
  {
   "cell_type": "markdown",
   "metadata": {
    "id": "s7dxpCjCs_-4"
   },
   "source": [
    "## Changing a set in Python\n",
    "Although **sets** are mutable, indexing on them will have no meaning due to the fact that they are unordered. So sets do not support accessing or changing an item/element using indexing or slicing. The **add()** method can be used to add single element and **update()** method for adding multiple elements. Note that the **update()** method can take the argument in the format of tuples, lists, strings or other sets. However, in all cases the duplicates are ignored."
   ]
  },
  {
   "cell_type": "code",
   "execution_count": null,
   "metadata": {
    "id": "MpKM-yPSs_-4"
   },
   "outputs": [],
   "source": [
    "# Initialize a set\n",
    "languages = {'Python', 'R'}\n",
    "print(languages)\n",
    "\n",
    "# Add an element\n",
    "languages.add('SAS')\n",
    "print(languages)\n",
    "\n",
    "# Ad multiple elements\n",
    "languages.update(['Julia', 'SPSS'])\n",
    "print(languages)\n",
    "\n",
    "# Add list and set\n",
    "languages.update(['Java', 'C'], {'Machine Learning', 'Data Science', 'AI'})\n",
    "print(languages)"
   ]
  },
  {
   "cell_type": "markdown",
   "metadata": {
    "id": "tfx-qJsAs_-4"
   },
   "source": [
    "## Removing items from set\n",
    "The **discard()** or **remove()** method can be used to remove a particular item from set. The fundamental difference between **discard()** and **remove()** is that the first do not take any action if the item does not exist in the set, whereas **remove()** will raises an error in such scenario."
   ]
  },
  {
   "cell_type": "code",
   "execution_count": null,
   "metadata": {
    "id": "FqD0LS65s_-4"
   },
   "outputs": [],
   "source": [
    "# Remove an element\n",
    "languages.remove('AI')\n",
    "print(languages)\n",
    "\n",
    "# Discard an element, although AI has already been removed discard will not throw an error\n",
    "languages.discard('AI')\n",
    "print(languages)\n",
    "\n",
    "# Pop will remove a random item from set\n",
    "print ('Removed:', (languages.pop()), 'from', languages)"
   ]
  },
  {
   "cell_type": "markdown",
   "metadata": {
    "id": "M26RGidvs_-4"
   },
   "source": [
    "# 8. Dictionary\n",
    "Each **key** is separated from its value by a colon ( **:** ), the items are separated by commas, and the whole thing is enclosed in curly braces. An empty dictionary without any items is written with just two curly braces, like this: **{ }**.\n",
    "\n",
    "Keys are unique within a dictionary while values may not be. The values of a dictionary can be of any type, but the keys must be of an immutable data type such as strings, numbers, or tuples."
   ]
  },
  {
   "cell_type": "markdown",
   "metadata": {
    "id": "JwxAxswus_-4"
   },
   "source": [
    "## Creating a dictionary"
   ]
  },
  {
   "cell_type": "code",
   "execution_count": null,
   "metadata": {
    "id": "clqpkOTNs_-4"
   },
   "outputs": [],
   "source": [
    "# Creating a dictionary\n",
    "dict = {'Name': 'Elizabeth', 'Age': 20, 'Class': 'Three'}\n",
    "\n",
    "print ('Sample dictionary:', dict)"
   ]
  },
  {
   "cell_type": "markdown",
   "metadata": {
    "id": "tJ9GHSC5s_-5"
   },
   "source": [
    "## Accessing items from dictionary"
   ]
  },
  {
   "cell_type": "code",
   "execution_count": null,
   "metadata": {
    "id": "YB6jnnhxs_-5"
   },
   "outputs": [],
   "source": [
    "# Accessing items from dictionary\n",
    "\n",
    "print ('Value of key Name, from sample dictionary:', dict['Name'])"
   ]
  },
  {
   "cell_type": "markdown",
   "metadata": {
    "id": "O_hZCSq1s_-5"
   },
   "source": [
    "## Deleting a dictionary"
   ]
  },
  {
   "cell_type": "code",
   "execution_count": null,
   "metadata": {
    "id": "ag-zBxKMs_-5"
   },
   "outputs": [],
   "source": [
    "# Deleting a dictionary\n",
    "dict = {'Name': 'Elizabeth', 'Age': 20, 'Class': 'Three'}\n",
    "print ('Sample dictionary:', dict)\n",
    "del dict['Name'] # Delete specific item\n",
    "print ('Sample dictionary post deletion of item Name:', dict)\n",
    "\n",
    "dict = {'Name': 'Elizabeth', 'Age': 20, 'Class': 'Three'}\n",
    "dict.clear() # Clear all the contents of dictionary\n",
    "print ('dict post dict.clear():', dict)\n",
    "\n",
    "dict = {'Name': 'Elizabeth', 'Age': 20, 'Class': 'Three'}\n",
    "del dict # Delete the dictionary"
   ]
  },
  {
   "cell_type": "markdown",
   "metadata": {
    "id": "rmH7yaXzs_-5"
   },
   "source": [
    "## Updating a dictionary"
   ]
  },
  {
   "cell_type": "code",
   "execution_count": null,
   "metadata": {
    "id": "AMsfiBX8s_-5"
   },
   "outputs": [],
   "source": [
    "# Updating a dictionary\n",
    "\n",
    "dict = {'Name': 'Elizabeth', 'Age': 20, 'Class': 'Three'}\n",
    "print ('Sample dictionary:', dict)\n",
    "dict['Age'] = 22\n",
    "\n",
    "print ('Dictionary post age value update:', dict)"
   ]
  },
  {
   "cell_type": "markdown",
   "metadata": {
    "id": "CJR6VqaRs_-6"
   },
   "source": [
    "## Basic operations on dictionary"
   ]
  },
  {
   "cell_type": "code",
   "execution_count": null,
   "metadata": {
    "id": "7LN_hsx2s_-6"
   },
   "outputs": [],
   "source": [
    "# Basic operations\n",
    "\n",
    "dict = {'Name': 'Elizabeth', 'Age': 20, 'Class': 'Three'}\n",
    "print (\"Length of dict: \", len(dict))\n",
    "\n",
    "dict1 = {'Name': 'Elizabeth', 'Age': 20};\n",
    "dict2 = {'Name': 'James', 'Age': 22};\n",
    "dict3 = {'Name': 'James', 'Age': 19};\n",
    "dict4 = {'Name': 'Elizabeth', 'Age': 20};\n",
    "\n",
    "# String representation of dictionary\n",
    "dict = {'Name': 'Elizabeth', 'Age': 20}\n",
    "print ('Equivalent String:', str(dict))\n",
    "\n",
    "# Copy the dict\n",
    "dict1 = dict.copy()\n",
    "print (dict1)\n",
    "\n",
    "# Create new dictionary with keys from tuple and values to set value\n",
    "seq = ('name', 'age', 'sex')\n",
    "\n",
    "dict = dict.fromkeys(seq)\n",
    "print ('New Dictionary:', str(dict))\n",
    "\n",
    "dict = dict.fromkeys(seq, 10)\n",
    "print ('New Dictionary:', str(dict))\n",
    "\n",
    "# Retrieve value for a given key\n",
    "dict = {'Name': 'Elizabeth', 'Age': 20};\n",
    "print ('Value for Age:', dict.get('Age'))\n",
    "\n",
    "# Since the key Education does not exist, the second argument will be returned\n",
    "print ('Value for Education:', dict.get('Education', 'First Grade'))\n",
    "\n",
    "# Check if key in dictionary\n",
    "print ('Age exists?', 'Age' in dict)\n",
    "print ('Sex exists?', 'Sex' in dict)\n",
    "\n",
    "# Return items of dictionary\n",
    "print ('dict items:', dict.items())\n",
    "\n",
    "# Return items of keys\n",
    "print ('dict keys:', dict.keys())\n",
    "\n",
    "# Return values of dict\n",
    "print ('Value of dict:',  dict.values())\n",
    "\n",
    "# If key does not exists, then the arguments will be added to dict and returned\n",
    "print ('Value for Age:', dict.setdefault('Age', None))\n",
    "print ('Value for Sex:', dict.setdefault('Sex', None))\n",
    "\n",
    "# Concatenate dicts\n",
    "dict = {'Name': 'Elizabeth', 'Age': 20}\n",
    "dict2 = {'Sex': 'female' }\n",
    "\n",
    "dict.update(dict2)\n",
    "print ('dict.update(dict2) = ',  dict)"
   ]
  },
  {
   "cell_type": "markdown",
   "metadata": {
    "id": "AqHHuU1ns_-6"
   },
   "source": [
    "# 9. User defined functions\n",
    "A function is a block of organized, reusable code that is used to perform a single, related action. Functions provide better modularity for your application and a high degree of code reusing."
   ]
  },
  {
   "cell_type": "markdown",
   "metadata": {
    "id": "sBM9zZiks_-6"
   },
   "source": [
    "## Function without arguments"
   ]
  },
  {
   "cell_type": "code",
   "execution_count": null,
   "metadata": {
    "id": "OvvRIPB0s_-7"
   },
   "outputs": [],
   "source": [
    "# Simple function\n",
    "def someFunction():\n",
    "    print ('Hello World!')\n",
    "\n",
    "# Call the function\n",
    "someFunction()"
   ]
  },
  {
   "cell_type": "markdown",
   "metadata": {
    "id": "9nTVQyeBs_-7"
   },
   "source": [
    "## Function with arguments"
   ]
  },
  {
   "cell_type": "code",
   "execution_count": null,
   "metadata": {
    "id": "4DPPPsAqs_-7"
   },
   "outputs": [],
   "source": [
    "# Simple function to add two numbers\n",
    "def sum_two_numbers(a, b):\n",
    "    return a + b\n",
    "\n",
    "# After this line x will hold the value 3!\n",
    "x = sum_two_numbers(1, 2)\n",
    "print (x)"
   ]
  },
  {
   "cell_type": "markdown",
   "metadata": {
    "id": "DarHSg5ys_-7"
   },
   "source": [
    "You can also set default value for argument(s) in a function. In the below example value of **b** is set to **10** as default."
   ]
  },
  {
   "cell_type": "code",
   "execution_count": null,
   "metadata": {
    "id": "pFum3caOs_-7"
   },
   "outputs": [],
   "source": [
    "def sum_two_numbers(a, b = 10):\n",
    "    return a + b\n",
    "\n",
    "print (sum_two_numbers(10))\n",
    "print (sum_two_numbers(10, 5))"
   ]
  },
  {
   "cell_type": "markdown",
   "metadata": {
    "id": "6GkGQmuDs_-7"
   },
   "source": [
    "## Scope of variables\n",
    "The scope of a variable determines the portion of the program where you can access a particular identifier.\n",
    "\n",
    "There are two basic scopes of variables in Python:\n",
    "- Global variables\n",
    "- Local variables"
   ]
  },
  {
   "cell_type": "code",
   "execution_count": null,
   "metadata": {
    "id": "0zR7y8oXs_-7"
   },
   "outputs": [],
   "source": [
    "# Global variable\n",
    "a = 10\n",
    "\n",
    "# Simple function to add two numbers\n",
    "def sum_two_numbers(b):\n",
    "    return a + b\n",
    "\n",
    "# Call the function and print result\n",
    "print (sum_two_numbers(10))"
   ]
  },
  {
   "cell_type": "markdown",
   "metadata": {
    "id": "0iJKQ9n1s_-8"
   },
   "source": [
    "## Default argument\n",
    "A default argument is an argument that assumes a default value if a value is not provided in the function call for that argument."
   ]
  },
  {
   "cell_type": "code",
   "execution_count": null,
   "metadata": {
    "id": "vZZVXji9s_-8"
   },
   "outputs": [],
   "source": [
    "# Simple function to add two number with b having default value of 10\n",
    "def sum_two_numbers(a, b = 10):\n",
    "    return a + b\n",
    "\n",
    "# Call the function and print result\n",
    "print (sum_two_numbers(10))\n",
    "\n",
    "print (sum_two_numbers(10, 5))"
   ]
  },
  {
   "cell_type": "markdown",
   "metadata": {
    "id": "_i90oe7as_-8"
   },
   "source": [
    "## Variable length arguments\n",
    "You may need to process a function for more arguments than you specified while defining the function. These arguments are called ***variable length arguments*** and are not named in the function definition, unlike required and default arguments. The ***args** and ****kwargs** is a common idiom to allow arbitrary number of arguments."
   ]
  },
  {
   "cell_type": "markdown",
   "metadata": {
    "id": "-E-XLsnMs_-8"
   },
   "source": [
    "The ***args** will give you all function parameters as a tuple."
   ]
  },
  {
   "cell_type": "code",
   "execution_count": null,
   "metadata": {
    "id": "6SphRhSas_-8"
   },
   "outputs": [],
   "source": [
    "# Simple function to loop through arguments and print them\n",
    "def foo(*args):\n",
    "    for a in args:\n",
    "        print (a)\n",
    "\n",
    "# Call the function\n",
    "foo(1, 2, 3)"
   ]
  },
  {
   "cell_type": "markdown",
   "metadata": {
    "id": "l2feAuAVs_-8"
   },
   "source": [
    "The ****kwargs** will give you all keyword arguments except for those corresponding to a formal parameter as a dictionary."
   ]
  },
  {
   "cell_type": "code",
   "execution_count": null,
   "metadata": {
    "id": "lvUQ_KEjs_-8"
   },
   "outputs": [],
   "source": [
    "# Simple function to loop through arguments and print them\n",
    "def foo(**kwargs):\n",
    "    for a in kwargs:\n",
    "        print (a, kwargs[a])\n",
    "\n",
    "# Call the function\n",
    "foo(name = 'Elizabeth', age = 20)"
   ]
  },
  {
   "cell_type": "markdown",
   "metadata": {
    "id": "3MP6BR4ks_-8"
   },
   "source": [
    "# 10. File input / output\n",
    "**File** is a named location on disk to store related information. When we want to read from or write to a file we need to open it first. When we are done, it needs to be closed, so that resources that are tied with the file are freed.\n",
    "\n",
    "So in Python, a file operation takes place in the following order:\n",
    "1. Open a file.\n",
    "2. Read or write (perform operation).\n",
    "3. Close the file."
   ]
  },
  {
   "cell_type": "code",
   "execution_count": null,
   "metadata": {
    "id": "ibbJ3Rugs_-9"
   },
   "outputs": [],
   "source": [
    "# Read input from console\n",
    "num = input('Enter a number: ')\n",
    "print (num)"
   ]
  },
  {
   "cell_type": "markdown",
   "metadata": {
    "id": "1IOziyZRs_-9"
   },
   "source": "## Writing to a file (google collab)"
  },
  {
   "cell_type": "code",
   "execution_count": null,
   "metadata": {
    "id": "1xemOA5rs_-9",
    "colab": {
     "base_uri": "https://localhost:8080/"
    },
    "outputId": "956590a7-1fe2-4664-fc1a-ad5122c84654"
   },
   "outputs": [
    {
     "output_type": "stream",
     "name": "stdout",
     "text": [
      "Mounted at /content/drive\n",
      "Current working directory is: /content/drive/My Drive/Colab Notebooks/Lab01\n"
     ]
    }
   ],
   "source": [
    "# # Set working directory\n",
    "# import os\n",
    "# import io\n",
    "# from google.colab import drive\n",
    "# drive.mount('/content/drive')\n",
    "#\n",
    "# # Set working directory\n",
    "# os.chdir('/content/drive/My Drive/Colab Notebooks/Lab01/')\n",
    "#\n",
    "# # Print the working directory\n",
    "# print ('Current working directory is:', os.getcwd())\n",
    "#\n",
    "# # Below code will create a file named vehicles and add the items. \\n is a newline character\n",
    "# vehicles = ['scooter\\n', 'bike\\n', 'car\\n']\n",
    "# f = io.open('vehicles.txt', 'w')\n",
    "# f.writelines(vehicles)\n",
    "# f.close()"
   ]
  },
  {
   "metadata": {},
   "cell_type": "markdown",
   "source": "# Alternative if you're working locally on your device"
  },
  {
   "metadata": {
    "ExecuteTime": {
     "end_time": "2025-02-26T06:46:46.023305Z",
     "start_time": "2025-02-26T06:46:46.007881Z"
    }
   },
   "cell_type": "code",
   "source": [
    "import io\n",
    "\n",
    "# Define file path inside the folder\n",
    "file_path = \"vehicles.txt\"\n",
    "\n",
    "vehicles = ['scooterr\\n', 'bike\\n', 'car\\n']\n",
    "\n",
    "# Open the file in write mode and add vehicles\n",
    "f = io.open('vehicles.txt', 'w')\n",
    "f.writelines(vehicles)\n",
    "f.close()\n",
    "\n",
    "print(f\"File saved successfully in: {file_path}\")\n"
   ],
   "outputs": [
    {
     "data": {
      "text/plain": [
       "'C:\\\\Users\\\\Jasmin\\\\Desktop\\\\GitHub\\\\LublinPolytech\\\\Politechnika-Lubelska\\\\ML Fundamentals'"
      ]
     },
     "execution_count": 31,
     "metadata": {},
     "output_type": "execute_result"
    }
   ],
   "execution_count": 31
  },
  {
   "cell_type": "markdown",
   "metadata": {
    "id": "-jONVRGus_-9"
   },
   "source": [
    "## Reading from file"
   ]
  },
  {
   "cell_type": "code",
   "metadata": {
    "id": "Ub9WqaDAs_-9",
    "ExecuteTime": {
     "end_time": "2025-02-26T06:41:14.660733Z",
     "start_time": "2025-02-26T06:41:14.417864Z"
    }
   },
   "source": [
    "f = io.open('vehicles.txt')\n",
    "print (f.readlines())\n",
    "f.close()"
   ],
   "outputs": [
    {
     "ename": "FileNotFoundError",
     "evalue": "[Errno 2] No such file or directory: 'vehicles.txt'",
     "output_type": "error",
     "traceback": [
      "\u001B[1;31m---------------------------------------------------------------------------\u001B[0m",
      "\u001B[1;31mFileNotFoundError\u001B[0m                         Traceback (most recent call last)",
      "Cell \u001B[1;32mIn[29], line 1\u001B[0m\n\u001B[1;32m----> 1\u001B[0m f \u001B[38;5;241m=\u001B[39m \u001B[43mio\u001B[49m\u001B[38;5;241;43m.\u001B[39;49m\u001B[43mopen\u001B[49m\u001B[43m(\u001B[49m\u001B[38;5;124;43m'\u001B[39;49m\u001B[38;5;124;43mvehicles.txt\u001B[39;49m\u001B[38;5;124;43m'\u001B[39;49m\u001B[43m)\u001B[49m\n\u001B[0;32m      2\u001B[0m \u001B[38;5;28mprint\u001B[39m (f\u001B[38;5;241m.\u001B[39mreadlines())\n\u001B[0;32m      3\u001B[0m f\u001B[38;5;241m.\u001B[39mclose()\n",
      "\u001B[1;31mFileNotFoundError\u001B[0m: [Errno 2] No such file or directory: 'vehicles.txt'"
     ]
    }
   ],
   "execution_count": 29
  },
  {
   "cell_type": "markdown",
   "metadata": {
    "id": "dwaHvfRhs_-9"
   },
   "source": [
    "# 11. Exception handling\n",
    "An exception is an error that happens during the execution of a program that disrupts the normal flow of the program's instructions. When a Python script encounters a situation that it cannot cope with, it raises an exception. Your program should be designed to handle both expected and unexpected errors."
   ]
  },
  {
   "cell_type": "markdown",
   "metadata": {
    "id": "KLITezS6s_-9"
   },
   "source": [
    "## try and except\n",
    "A critical operation which can raise exception is placed inside the **try** clause and the code that handles exception is written in the **except** clause."
   ]
  },
  {
   "cell_type": "code",
   "execution_count": null,
   "metadata": {
    "id": "Ukzx2hums_-9"
   },
   "outputs": [],
   "source": [
    "import sys\n",
    "\n",
    "try:\n",
    "    a = 1\n",
    "    b = 1\n",
    "    print ('Result of a/b:', a / b)\n",
    "except ZeroDivisionError:\n",
    "    print ('Can not divide by zero!')\n",
    "except TypeError:\n",
    "    print ('Wrong data type, division is allowed on numeric data type only!')\n",
    "except:\n",
    "    print ('Unexpected error occurred!', '\\n', 'Error Type:', sys.exc_info()[0], '\\n', 'Error Msg:', sys.exc_info()[1])"
   ]
  },
  {
   "cell_type": "code",
   "execution_count": null,
   "metadata": {
    "id": "gIo95Xfes_--"
   },
   "outputs": [],
   "source": [
    "try:\n",
    "    a = 1\n",
    "    b = 0\n",
    "    print (a / b)\n",
    "except ZeroDivisionError:\n",
    "    print ('Can not divide by zero!')\n",
    "except TypeError:\n",
    "    print ('Wrong data type, division is allowed on numeric data type only!')\n",
    "except:\n",
    "    print ('Unexpected error occurred!', '\\n', 'Error Type:', sys.exc_info()[0], '\\n', 'Error Msg:', sys.exc_info()[1])"
   ]
  },
  {
   "cell_type": "code",
   "execution_count": null,
   "metadata": {
    "id": "O2TBT_7xs_--"
   },
   "outputs": [],
   "source": [
    "try:\n",
    "    a = 1\n",
    "    b = 0\n",
    "    print (A / b)\n",
    "except ZeroDivisionError:\n",
    "    print ('Can not divide by zero!')\n",
    "except TypeError:\n",
    "    print ('Wrong data type, division is allowed on numeric data type only!')\n",
    "except:\n",
    "    print ('Unexpected error occurred!', '\\n', 'Error Type:', sys.exc_info()[0], '\\n', 'Error Msg:', sys.exc_info()[1])"
   ]
  },
  {
   "cell_type": "markdown",
   "metadata": {
    "id": "-EAFg8G0s_--"
   },
   "source": [
    "## Finally\n",
    "This is an optional clause which is intended to define clean-up actions that must be executed under all circumstances."
   ]
  },
  {
   "cell_type": "code",
   "metadata": {
    "id": "dY7I6HcBs_--",
    "ExecuteTime": {
     "end_time": "2025-02-26T06:26:01.346556Z",
     "start_time": "2025-02-26T06:26:01.332282Z"
    }
   },
   "source": [
    "try:\n",
    "    f = open('vehicles.txt')\n",
    "    s = f.readline()\n",
    "    print (s)\n",
    "    i = int(s.strip())\n",
    "except IOError as e:\n",
    "    print ('I/O error({0}): {1}'.format(e.errno, e.strerror))\n",
    "except ValueError:\n",
    "    print ('Could not convert data to an integer!')\n",
    "except:\n",
    "    print ('Unexpected error occurred', '\\n', 'Error Type:', sys.exc_info()[0], '\\n', 'Error Msg:', sys.exc_info()[1])\n",
    "finally:\n",
    "    f.close()\n",
    "    print ('File has been closed')"
   ],
   "outputs": [
    {
     "name": "stdout",
     "output_type": "stream",
     "text": [
      "scooter\n",
      "\n",
      "Could not convert data to an integer!\n",
      "File has been closed\n"
     ]
    }
   ],
   "execution_count": 24
  },
  {
   "cell_type": "markdown",
   "metadata": {
    "id": "w9cZz58ms_--"
   },
   "source": [
    "# 12. Programming assignments"
   ]
  },
  {
   "cell_type": "markdown",
   "metadata": {
    "id": "QeE40iWZs_--"
   },
   "source": [
    "## App 1.\n",
    "Calculate the value of the variable: $$y = { {2 \\over {\\sqrt{|x|-4}}} - {6 \\over {x^2-5x}} },$$ where \\\\(x_1=8.167\\\\) and \\\\(x_2=-8.167\\\\)."
   ]
  },
  {
   "cell_type": "code",
   "execution_count": 1,
   "metadata": {
    "id": "pQIVdzuxs_--",
    "colab": {
     "base_uri": "https://localhost:8080/"
    },
    "outputId": "88f9ad7e-7974-4b3d-b35a-658fee8c2d02"
   },
   "outputs": [
    {
     "output_type": "stream",
     "name": "stdout",
     "text": [
      "y1 = 0.7477820024598913\n",
      "y2 = 0.9239608626169877\n"
     ]
    }
   ],
   "source": [
    "def y_func(x1, x2):\n",
    "  denom1_1 = (abs(x1) - 4)**0.5\n",
    "  denom1_2 = x1**2 - 5*x1\n",
    "  denom2_1 = (abs(x2) - 4)**0.5\n",
    "  denom2_2 = x2**2 - 5*x2\n",
    "\n",
    "  for x in (x1, x2):\n",
    "    y1 = 2/denom1_1 - 6/denom1_2\n",
    "    y2 = 2/denom2_1 - 6/denom2_2\n",
    "    return y1, y2\n",
    "\n",
    "\n",
    "x1 = 8.167\n",
    "x2 = -8.167\n",
    "y1, y2 = y_func(x1, x2)\n",
    "print (\"y1 =\", y1)\n",
    "print (\"y2 =\", y2)\n"
   ]
  },
  {
   "cell_type": "markdown",
   "metadata": {
    "id": "siLm-XLos_--"
   },
   "source": [
    "## App 2.\n",
    "Write a program that takes three numbers from the user (***a***, ***b***, ***c***) and then displays them on the screen in ascending order. Use an **if** statement."
   ]
  },
  {
   "cell_type": "code",
   "execution_count": 2,
   "metadata": {
    "id": "_b6YBQMUs_-_",
    "colab": {
     "base_uri": "https://localhost:8080/"
    },
    "outputId": "23cbec9e-38b4-4d9c-9a48-9256874de99f"
   },
   "outputs": [
    {
     "output_type": "stream",
     "name": "stdout",
     "text": [
      "a = 4\n",
      "b = 4\n",
      "c = 5\n",
      "4.0 4.0 5.0\n"
     ]
    }
   ],
   "source": [
    "a = float(input(\"a = \"))\n",
    "b = float(input(\"b = \"))\n",
    "c = float(input(\"c = \"))\n",
    "if a > b:\n",
    "    a, b = b, a\n",
    "if a > c:\n",
    "    a, c = c, a\n",
    "if b > c:\n",
    "    b, c = c, b\n",
    "print (a, b, c)"
   ]
  },
  {
   "cell_type": "markdown",
   "metadata": {
    "id": "heSuYkBps_-_"
   },
   "source": [
    "## App 3.\n",
    "Write a program that calculates the surface area of the figure selected when the program starts: **1 - rectangle**, **2 - circle**, **3 - triangle**. After making the selection, the user should enter the dimensions of the figure needed for the calculation."
   ]
  },
  {
   "cell_type": "code",
   "execution_count": 3,
   "metadata": {
    "id": "i7ZnfIZhs_-_",
    "colab": {
     "base_uri": "https://localhost:8080/"
    },
    "outputId": "834fea7c-4889-4754-ea49-15e3d8c68579"
   },
   "outputs": [
    {
     "output_type": "stream",
     "name": "stdout",
     "text": [
      "choose a figure\n",
      "1 - rectangle\n",
      "2 - circle\n",
      "3 - triangle\n",
      "your desicion: 3\n",
      "base = 5\n",
      "height = 10\n",
      "area = 25.0\n"
     ]
    }
   ],
   "source": [
    "import math\n",
    "\n",
    "def rectangle():\n",
    "  l = float(input(\"length = \"))\n",
    "  w = float(input(\"width = \"))\n",
    "  return l*w\n",
    "\n",
    "def circle():\n",
    "  r = float(input(\"radius = \"))\n",
    "  return math.pi*r**2\n",
    "\n",
    "def triangle():\n",
    "  b = float(input(\"base = \"))\n",
    "  h = float(input(\"height = \"))\n",
    "  return 0.5*b*h\n",
    "\n",
    "print(\"choose a figure\")\n",
    "print(\"1 - rectangle\")\n",
    "print(\"2 - circle\")\n",
    "print(\"3 - triangle\")\n",
    "\n",
    "decision = int(input(\"your desicion: \"))\n",
    "if decision == 1:\n",
    "  area = rectangle()\n",
    "  print (\"area =\", area)\n",
    "elif decision == 2:\n",
    "  area = circle()\n",
    "  print (\"area =\", area)\n",
    "elif decision == 3:\n",
    "  area = triangle()\n",
    "  print (\"area =\", area)\n",
    "else:\n",
    "  print(\"please input number 1, 2 or 3\")\n"
   ]
  },
  {
   "cell_type": "markdown",
   "metadata": {
    "id": "HzSpoo0-s_-_"
   },
   "source": [
    "## App 4.\n",
    "Write a program that solves the square equation of the form: \\\\(ax^2+bx+c\\\\), where coefficients ***a***, ***b*** and ***c*** are entered by the user with the keyboard. Do not use the **solvers** module."
   ]
  },
  {
   "cell_type": "code",
   "execution_count": 6,
   "metadata": {
    "id": "jyBiJOWns_-_",
    "colab": {
     "base_uri": "https://localhost:8080/"
    },
    "outputId": "648a80eb-6703-442e-c976-4d380cf86875"
   },
   "outputs": [
    {
     "output_type": "stream",
     "name": "stdout",
     "text": [
      "a = 1\n",
      "b = 6\n",
      "c = 9\n",
      "x1 = x2 = -3.0\n"
     ]
    }
   ],
   "source": [
    "a = int(input(\"a = \"))\n",
    "while a == 0:\n",
    "  print(\"a can not be 0 in a square equation\")\n",
    "  a = int(input(\"a = \"))\n",
    "b = int(input(\"b = \"))\n",
    "c = int(input(\"c = \"))\n",
    "\n",
    "D = b**2 - 4*a*c\n",
    "\n",
    "if D < 0:\n",
    "  real = -b / (2*a)\n",
    "  imag = (abs(D)**0.5) / (2*a)\n",
    "  print(\"no real solutions\")\n",
    "  print(f\"x1 ={real} + {imag} i\")\n",
    "  print(f\"x2 = {real} - {imag} i\")\n",
    "\n",
    "elif D == 0:\n",
    "  x = -b / (2*a)\n",
    "  print(\"x1 = x2 =\", x)\n",
    "\n",
    "else:\n",
    "  x1 = (-b + D**0.5)/(2*a)\n",
    "  x2 = (-b - D**0.5)/(2*a)\n",
    "  print (\"x1 =\", x1)\n",
    "  print (\"x2 =\", x2)"
   ]
  },
  {
   "cell_type": "markdown",
   "metadata": {
    "id": "Y7g-5xRns_-_"
   },
   "source": [
    "## App 5.\n",
    "Write a program that displays squares of consecutive numbers from **1** to **10** in a **for** loop and in the **while** loop displays the cubes of even numbers from **1** to **100**."
   ]
  },
  {
   "cell_type": "code",
   "execution_count": 7,
   "metadata": {
    "id": "sBHPKx83s_-_",
    "colab": {
     "base_uri": "https://localhost:8080/"
    },
    "outputId": "ada5a899-2b29-48be-97b3-bb714bdcbd7b"
   },
   "outputs": [
    {
     "output_type": "stream",
     "name": "stdout",
     "text": [
      "Loop 1\n",
      "square of 1 is 1\n",
      "square of 2 is 4\n",
      "square of 3 is 9\n",
      "square of 4 is 16\n",
      "square of 5 is 25\n",
      "square of 6 is 36\n",
      "square of 7 is 49\n",
      "square of 8 is 64\n",
      "square of 9 is 81\n",
      "square of 10 is 100\n",
      "\n",
      "\n",
      " Loop 2\n",
      "cube of 2 is 8\n",
      "cube of 4 is 64\n",
      "cube of 6 is 216\n",
      "cube of 8 is 512\n",
      "cube of 10 is 1000\n",
      "cube of 12 is 1728\n",
      "cube of 14 is 2744\n",
      "cube of 16 is 4096\n",
      "cube of 18 is 5832\n",
      "cube of 20 is 8000\n",
      "cube of 22 is 10648\n",
      "cube of 24 is 13824\n",
      "cube of 26 is 17576\n",
      "cube of 28 is 21952\n",
      "cube of 30 is 27000\n",
      "cube of 32 is 32768\n",
      "cube of 34 is 39304\n",
      "cube of 36 is 46656\n",
      "cube of 38 is 54872\n",
      "cube of 40 is 64000\n",
      "cube of 42 is 74088\n",
      "cube of 44 is 85184\n",
      "cube of 46 is 97336\n",
      "cube of 48 is 110592\n",
      "cube of 50 is 125000\n",
      "cube of 52 is 140608\n",
      "cube of 54 is 157464\n",
      "cube of 56 is 175616\n",
      "cube of 58 is 195112\n",
      "cube of 60 is 216000\n",
      "cube of 62 is 238328\n",
      "cube of 64 is 262144\n",
      "cube of 66 is 287496\n",
      "cube of 68 is 314432\n",
      "cube of 70 is 343000\n",
      "cube of 72 is 373248\n",
      "cube of 74 is 405224\n",
      "cube of 76 is 438976\n",
      "cube of 78 is 474552\n",
      "cube of 80 is 512000\n",
      "cube of 82 is 551368\n",
      "cube of 84 is 592704\n",
      "cube of 86 is 636056\n",
      "cube of 88 is 681472\n",
      "cube of 90 is 729000\n",
      "cube of 92 is 778688\n",
      "cube of 94 is 830584\n",
      "cube of 96 is 884736\n",
      "cube of 98 is 941192\n"
     ]
    }
   ],
   "source": [
    "print(\"Loop 1\")\n",
    "for i in range (1,11):\n",
    "  print (f\"square of {i} is\", i**2)\n",
    "\n",
    "print(\"\\n\\n\", \"Loop 2\")\n",
    "j = 2\n",
    "while j < 100:\n",
    "  print(f\"cube of {j} is\", j**3)\n",
    "  j += 2"
   ]
  }
 ],
 "metadata": {
  "anaconda-cloud": {},
  "kernelspec": {
   "display_name": "Python 3",
   "language": "python",
   "name": "python3"
  },
  "language_info": {
   "codemirror_mode": {
    "name": "ipython",
    "version": 3
   },
   "file_extension": ".py",
   "mimetype": "text/x-python",
   "name": "python",
   "nbconvert_exporter": "python",
   "pygments_lexer": "ipython3",
   "version": "3.6.5"
  },
  "colab": {
   "provenance": []
  }
 },
 "nbformat": 4,
 "nbformat_minor": 0
}
